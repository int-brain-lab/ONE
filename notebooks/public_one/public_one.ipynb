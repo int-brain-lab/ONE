{
 "cells": [
  {
   "cell_type": "markdown",
   "id": "modified-broadway",
   "metadata": {},
   "source": [
    "# Exploring the public IBL data with ONE\n",
    "This tutorial will give an introduction into the publically available data and show how to download electrophysiology data for a probe insertion and display a simple raster plot"
   ]
  },
  {
   "cell_type": "markdown",
   "id": "narrative-chamber",
   "metadata": {},
   "source": [
    "First let's get started by importing the ONE module and connecting to the database"
   ]
  },
  {
   "cell_type": "code",
   "execution_count": 1,
   "id": "unable-concentrate",
   "metadata": {
    "execution": {
     "iopub.execute_input": "2021-09-07T19:19:10.919690Z",
     "iopub.status.busy": "2021-09-07T19:19:10.918208Z",
     "iopub.status.idle": "2021-09-07T19:19:12.136846Z",
     "shell.execute_reply": "2021-09-07T19:19:12.136846Z"
    }
   },
   "outputs": [],
   "source": [
    "# Import one and connect to the database\n",
    "from one.api import ONE\n",
    "one = ONE(base_url='https://openalyx.internationalbrainlab.org', silent=True)"
   ]
  },
  {
   "cell_type": "markdown",
   "id": "monthly-alcohol",
   "metadata": {},
   "source": [
    "We want to see what probe insertions are available on the database. To list them we can use the following command"
   ]
  },
  {
   "cell_type": "code",
   "execution_count": 2,
   "id": "varying-occupation",
   "metadata": {
    "execution": {
     "iopub.execute_input": "2021-09-07T19:19:12.144967Z",
     "iopub.status.busy": "2021-09-07T19:19:12.144967Z",
     "iopub.status.idle": "2021-09-07T19:19:12.493081Z",
     "shell.execute_reply": "2021-09-07T19:19:12.492003Z"
    }
   },
   "outputs": [],
   "source": [
    "probe_insertions = one.alyx.rest('insertions', 'list')"
   ]
  },
  {
   "cell_type": "markdown",
   "id": "italian-snapshot",
   "metadata": {},
   "source": [
    "We can find the number of probes insertions available and some information about the first probe"
   ]
  },
  {
   "cell_type": "code",
   "execution_count": 3,
   "id": "devoted-radius",
   "metadata": {
    "execution": {
     "iopub.execute_input": "2021-09-07T19:19:12.501377Z",
     "iopub.status.busy": "2021-09-07T19:19:12.501121Z",
     "iopub.status.idle": "2021-09-07T19:19:12.525681Z",
     "shell.execute_reply": "2021-09-07T19:19:12.525681Z"
    }
   },
   "outputs": [
    {
     "name": "stdout",
     "output_type": "stream",
     "text": [
      "N probes = 4\n",
      "{'auto_datetime': '2021-04-02T15:03:46.367818',\n",
      " 'datasets': ['8091108f-a0d2-44e0-bf01-5c0a93de7844',\n",
      "              '54e5d55d-e19d-452d-beed-ff49a5b3b38b',\n",
      "              'eaed8cf5-0bb9-4eaf-8d8e-3471e39d63fa',\n",
      "              '236a116c-8a18-4dd0-a2b5-169b28ef7fd4',\n",
      "              'a3bf84f1-3ee2-4f3c-a36a-4b4959a513ba',\n",
      "              'bce68e1c-1d72-4bf9-b77f-0c9e3b1c5c12',\n",
      "              'c0c3c1a7-ee4d-4117-8a6f-93d9d43c52ee',\n",
      "              'e9d8ddb5-ddaf-48b7-8a78-49d909c80ef1',\n",
      "              '138676a2-d310-49b4-865e-0e14f8b13182',\n",
      "              '837af07a-26aa-4264-97d6-fa55d2382f77',\n",
      "              '4f397701-da2e-460b-9937-a6a53ff23959',\n",
      "              '45854a1c-c309-4bb0-806e-a4f9f1617472',\n",
      "              'b31f4721-0163-4aec-a92e-7353764ce355',\n",
      "              '25c2b0f4-6201-407d-8cf6-f892370a5a44',\n",
      "              'ffea1a62-dc7e-4d01-8f86-03801a88615f',\n",
      "              'eaa07c05-df66-42ce-ae59-326b6ac9e8f0',\n",
      "              '4420d325-141b-4d30-8b92-0f8f545274d3',\n",
      "              '6a0c68d2-2728-4d3d-8422-2228fe52226b',\n",
      "              '99c957a8-f664-463b-afae-a1ba570a85b2',\n",
      "              '94285bfd-7500-4583-83b1-906c420cc667',\n",
      "              '5c814a9b-be69-4513-8282-a8fd3d562521',\n",
      "              '40af4a49-1b9d-45ec-b443-a151c010ea3c',\n",
      "              'ea257f30-8a0f-4cde-83d2-aa4d2ce4bd23',\n",
      "              'dd78976c-fc95-4221-83db-a034652b8867',\n",
      "              '3d9cbd53-fe3f-41ca-ae37-71936f5ca68f',\n",
      "              '3d1fc6f0-48bc-493e-834d-d1cf6a496255',\n",
      "              '854e2ec7-c974-4dcc-8dea-b0a6063febdf',\n",
      "              '322e85c0-b5d8-4013-9db0-5f523a2a489c',\n",
      "              '600b333b-030b-482f-a02f-0a8b90e73eab',\n",
      "              'a51473f0-4139-4d01-9264-bea36db1789a',\n",
      "              'cf745deb-4a45-418f-9871-6a51a6ec712d',\n",
      "              '582cd4c3-02b8-4121-84ba-f4611aa4dcfe',\n",
      "              '249fd743-3207-478f-923a-45749d92d87b',\n",
      "              '7fbebff5-8f6a-4b4b-aeba-c5a9118343db',\n",
      "              '545f7a74-9a47-438b-8367-d715d70a3710',\n",
      "              '5327c66d-dab0-41b3-b180-3aa7d47d5303',\n",
      "              'af8dd0e9-2057-4d2c-b47f-2598153f187d',\n",
      "              '6cd3b0c3-8d83-4367-b554-f90f8d505c0e',\n",
      "              '0d0bad29-7f05-4825-8cf9-50d9b7dc83c3',\n",
      "              'cc9bf356-9ec2-4100-8256-4a0363d2085a',\n",
      "              '9314c967-4b92-421a-8956-3daaf5be1da7',\n",
      "              '00c234a3-a4ff-4f97-a522-939d15528a45',\n",
      "              '53ab50fe-b57d-4013-909f-05219e77b053',\n",
      "              '10ee20c5-71dc-4e6d-9c52-45c78d9ac57b'],\n",
      " 'id': 'da8dfec1-d265-44e8-84ce-6ae9c109b8bd',\n",
      " 'json': {'amplitude_max_uV': 927.98,\n",
      "          'amplitude_median_uV': 637.25,\n",
      "          'drift_rms_um': 2.53,\n",
      "          'extended_qc': {'alignment_count': 1,\n",
      "                          'alignment_resolved': False,\n",
      "                          'alignment_stored': '2021-04-02T15:03:41_nate',\n",
      "                          'experimenter': 'PASS',\n",
      "                          'tracing_exists': True},\n",
      "          'firing_rate_max': 72.82,\n",
      "          'firing_rate_median': 3.95,\n",
      "          'n_units': 794,\n",
      "          'n_units_qc_pass': 280,\n",
      "          'qc': 'PASS',\n",
      "          'whitening_matrix_conditioning': 11.66,\n",
      "          'xyz_picks': [[786, 624, -568],\n",
      "                        [786, 624, -767],\n",
      "                        [761, 624, -942],\n",
      "                        [710, 599, -1068],\n",
      "                        [611, 599, -1218],\n",
      "                        [511, 550, -1468],\n",
      "                        [386, 550, -1718],\n",
      "                        [211, 524, -2093],\n",
      "                        [11, 499, -2668],\n",
      "                        [-88, 474, -2918],\n",
      "                        [-88, 474, -3093],\n",
      "                        [-139, 449, -3243],\n",
      "                        [-413, 425, -3993],\n",
      "                        [-488, 425, -4242],\n",
      "                        [-563, 400, -4468],\n",
      "                        [-813, 400, -5267],\n",
      "                        [-913, 324, -5743],\n",
      "                        [-938, 324, -5893],\n",
      "                        [-938, 324, -6117]]},\n",
      " 'model': '3B2',\n",
      " 'name': 'probe00',\n",
      " 'serial': '19108320031',\n",
      " 'session': '4ecb5d24-f5cc-402c-be28-9d0f7cb14b3a',\n",
      " 'session_info': {'id': '4ecb5d24-f5cc-402c-be28-9d0f7cb14b3a',\n",
      "                  'lab': 'hoferlab',\n",
      "                  'number': 1,\n",
      "                  'start_time': '2020-09-21T19:02:16.707541',\n",
      "                  'subject': 'SWC_043',\n",
      "                  'task_protocol': '_iblrig_tasks_ephysChoiceWorld6.4.2'}}\n"
     ]
    }
   ],
   "source": [
    "from pprint import pprint\n",
    "print(f'N probes = {len(probe_insertions)}')\n",
    "pprint(probe_insertions[0])"
   ]
  },
  {
   "cell_type": "markdown",
   "id": "expected-effort",
   "metadata": {},
   "source": [
    "Each probe insertion has a unique ID (pid) that we can use to search the database and find the datasets that are linked to it. Let's look at the datasets associated with the first probe in the list"
   ]
  },
  {
   "cell_type": "code",
   "execution_count": 4,
   "id": "distinct-installation",
   "metadata": {
    "execution": {
     "iopub.execute_input": "2021-09-07T19:19:12.533335Z",
     "iopub.status.busy": "2021-09-07T19:19:12.532337Z",
     "iopub.status.idle": "2021-09-07T19:19:13.304233Z",
     "shell.execute_reply": "2021-09-07T19:19:13.304233Z"
    }
   },
   "outputs": [
    {
     "name": "stdout",
     "output_type": "stream",
     "text": [
      "N datasets = 44\n",
      "{'auto_datetime': '2021-02-10T20:24:31.484939',\n",
      " 'collection': 'alf/probe00',\n",
      " 'created_by': 'afb0fdad',\n",
      " 'created_datetime': '2020-09-22T09:31:52.393857',\n",
      " 'data_format': 'csv',\n",
      " 'dataset_type': 'clusters.uuids',\n",
      " 'default_dataset': True,\n",
      " 'experiment_number': 1,\n",
      " 'file_records': [{'data_repository': 'flatiron_hoferlab',\n",
      "                   'data_repository_path': '/public/hoferlab/Subjects/',\n",
      "                   'data_url': 'https://ibl.flatironinstitute.org/public/hoferlab/Subjects/SWC_043/2020-09-21/001/alf/probe00/clusters.uuids.3d9cbd53-fe3f-41ca-ae37-71936f5ca68f.csv',\n",
      "                   'exists': True,\n",
      "                   'id': 'ae3974e1-7cdc-42cb-8632-b9ae0391e71d',\n",
      "                   'relative_path': 'SWC_043/2020-09-21/001/alf/probe00/clusters.uuids.csv'}],\n",
      " 'file_size': 29383,\n",
      " 'hash': '41ec5a83b7d7f41df9730fcae9cc7024',\n",
      " 'name': 'clusters.uuids.csv',\n",
      " 'protected': False,\n",
      " 'public': False,\n",
      " 'revision': None,\n",
      " 'session': 'https://openalyx.internationalbrainlab.org/sessions/4ecb5d24-f5cc-402c-be28-9d0f7cb14b3a',\n",
      " 'tags': [],\n",
      " 'url': 'https://openalyx.internationalbrainlab.org/datasets/3d9cbd53-fe3f-41ca-ae37-71936f5ca68f',\n",
      " 'version': '1.5.36'}\n"
     ]
    }
   ],
   "source": [
    "pid = probe_insertions[0]['id']\n",
    "\n",
    "datasets = one.alyx.rest('datasets', 'list', probe_insertion=pid)\n",
    "print(f'N datasets = {len(datasets)}')\n",
    "pprint(datasets[0])"
   ]
  },
  {
   "cell_type": "markdown",
   "id": "automatic-lambda",
   "metadata": {},
   "source": [
    "To get a more concise summary of the datasets available we can loop through and display their names"
   ]
  },
  {
   "cell_type": "code",
   "execution_count": 5,
   "id": "pending-macintosh",
   "metadata": {
    "execution": {
     "iopub.execute_input": "2021-09-07T19:19:13.316263Z",
     "iopub.status.busy": "2021-09-07T19:19:13.314268Z",
     "iopub.status.idle": "2021-09-07T19:19:13.336907Z",
     "shell.execute_reply": "2021-09-07T19:19:13.337904Z"
    }
   },
   "outputs": [
    {
     "name": "stdout",
     "output_type": "stream",
     "text": [
      "['clusters.uuids.csv',\n",
      " 'spikes.clusters.npy',\n",
      " 'spikes.times.npy',\n",
      " 'spikes.samples.npy',\n",
      " '_kilosort_raw.output.tar',\n",
      " 'clusters.amps.npy',\n",
      " '_spikeglx_sync.channels.probe00.npy',\n",
      " '_spikeglx_sync.times.probe00.npy',\n",
      " 'spikes.amps.npy',\n",
      " 'clusters.metrics.pqt',\n",
      " 'clusters.waveformsChannels.npy',\n",
      " 'clusters.waveforms.npy',\n",
      " 'clusters.peakToTrough.npy',\n",
      " 'channels.rawInd.npy',\n",
      " '_spikeglx_sync.polarities.probe00.npy',\n",
      " 'clusters.depths.npy',\n",
      " 'spikes.depths.npy',\n",
      " 'clusters.channels.npy',\n",
      " '_spikeglx_ephysData_g0_t0.imec0.ap.cbin',\n",
      " '_spikeglx_ephysData_g0_t0.imec0.lf.cbin',\n",
      " '_spikeglx_ephysData_g0_t0.imec0.lf.ch',\n",
      " '_spikeglx_ephysData_g0_t0.imec0.ap.ch',\n",
      " '_spikeglx_ephysData_g0_t0.imec0.ap.meta',\n",
      " '_spikeglx_ephysData_g0_t0.imec0.lf.meta',\n",
      " '_spikeglx_ephysData_g0_t0.imec0.sync.npy',\n",
      " '_spikeglx_ephysData_g0_t0.imec0.timestamps.npy',\n",
      " '_spikeglx_ephysData_g0_t0.imec0.wiring.json',\n",
      " 'spikes.templates.npy',\n",
      " 'channels.localCoordinates.npy',\n",
      " 'templates.waveformsChannels.npy',\n",
      " 'templates.waveforms.npy',\n",
      " 'templates.amps.npy',\n",
      " '_iblqc_ephysTimeRmsLF.timestamps.npy',\n",
      " '_iblqc_ephysTimeRmsAP.timestamps.npy',\n",
      " '_iblqc_ephysTimeRmsLF.rms.npy',\n",
      " '_iblqc_ephysTimeRmsAP.rms.npy',\n",
      " '_iblqc_ephysSpectralDensityLF.freqs.npy',\n",
      " '_iblqc_ephysSpectralDensityAP.freqs.npy',\n",
      " '_iblqc_ephysSpectralDensityLF.power.npy',\n",
      " '_iblqc_ephysSpectralDensityAP.power.npy',\n",
      " '_kilosort_whitening.matrix.npy',\n",
      " '_phy_spikes_subset.channels.npy',\n",
      " '_phy_spikes_subset.spikes.npy',\n",
      " '_phy_spikes_subset.waveforms.npy']\n"
     ]
    }
   ],
   "source": [
    "dataset_names = [dset['name'] for dset in datasets]\n",
    "pprint(dataset_names)"
   ]
  },
  {
   "cell_type": "markdown",
   "id": "demanding-shore",
   "metadata": {},
   "source": [
    "We are interested in downloading the spikes datasets output from spike sorting in order to display a raster plot of the neural activity recorded on the probe. To download the data we can use the following approach"
   ]
  },
  {
   "cell_type": "code",
   "execution_count": 6,
   "id": "inside-growing",
   "metadata": {
    "execution": {
     "iopub.execute_input": "2021-09-07T19:19:13.344667Z",
     "iopub.status.busy": "2021-09-07T19:19:13.343670Z",
     "iopub.status.idle": "2021-09-07T19:21:16.832406Z",
     "shell.execute_reply": "2021-09-07T19:21:16.830074Z"
    }
   },
   "outputs": [],
   "source": [
    "dtypes = ['spikes.times',\n",
    "          'spikes.depths',\n",
    "          'spikes.amps']\n",
    "eid, probe = one.pid2eid(pid)\n",
    "spikes = one.load_object(eid, 'spikes', collection=f'alf/{probe_insertions[0][\"name\"]}',attribute=['times', 'depths',\n",
    "                                                                                                   'amps'])"
   ]
  },
  {
   "cell_type": "markdown",
   "id": "boring-stretch",
   "metadata": {},
   "source": [
    "We can import a module from brainbox that plots the raster across time"
   ]
  },
  {
   "cell_type": "code",
   "execution_count": 7,
   "id": "embedded-olive",
   "metadata": {
    "execution": {
     "iopub.execute_input": "2021-09-07T19:21:16.842407Z",
     "iopub.status.busy": "2021-09-07T19:21:16.840441Z",
     "iopub.status.idle": "2021-09-07T19:21:17.737200Z",
     "shell.execute_reply": "2021-09-07T19:21:17.735205Z"
    }
   },
   "outputs": [
    {
     "ename": "ModuleNotFoundError",
     "evalue": "No module named 'brainbox'",
     "output_type": "error",
     "traceback": [
      "\u001b[1;31m---------------------------------------------------------------------------\u001b[0m",
      "\u001b[1;31mModuleNotFoundError\u001b[0m                       Traceback (most recent call last)",
      "\u001b[1;32m~\\AppData\\Local\\Temp/ipykernel_14320/856972007.py\u001b[0m in \u001b[0;36m<module>\u001b[1;34m\u001b[0m\n\u001b[1;32m----> 1\u001b[1;33m \u001b[1;32mfrom\u001b[0m \u001b[0mbrainbox\u001b[0m\u001b[1;33m.\u001b[0m\u001b[0mplot\u001b[0m \u001b[1;32mimport\u001b[0m \u001b[0mdriftmap\u001b[0m\u001b[1;33m\u001b[0m\u001b[1;33m\u001b[0m\u001b[0m\n\u001b[0m\u001b[0;32m      2\u001b[0m \u001b[0mdriftmap\u001b[0m\u001b[1;33m(\u001b[0m\u001b[0mspikes\u001b[0m\u001b[1;33m[\u001b[0m\u001b[1;34m'times'\u001b[0m\u001b[1;33m]\u001b[0m\u001b[1;33m,\u001b[0m \u001b[0mspikes\u001b[0m\u001b[1;33m[\u001b[0m\u001b[1;34m'depths'\u001b[0m\u001b[1;33m]\u001b[0m\u001b[1;33m,\u001b[0m \u001b[0mt_bin\u001b[0m\u001b[1;33m=\u001b[0m\u001b[1;36m0.1\u001b[0m\u001b[1;33m,\u001b[0m \u001b[0md_bin\u001b[0m\u001b[1;33m=\u001b[0m\u001b[1;36m5\u001b[0m\u001b[1;33m)\u001b[0m\u001b[1;33m\u001b[0m\u001b[1;33m\u001b[0m\u001b[0m\n",
      "\u001b[1;31mModuleNotFoundError\u001b[0m: No module named 'brainbox'"
     ]
    }
   ],
   "source": [
    "from brainbox.plot import driftmap\n",
    "driftmap(spikes['times'], spikes['depths'], t_bin=0.1, d_bin=5)"
   ]
  }
 ],
 "metadata": {
  "docs_executed": "errored",
  "kernelspec": {
   "display_name": "Python 3.7.4 64-bit ('iblenv': conda)",
   "language": "python",
   "name": "python37464bitiblenvcondabbacccb2779642e1877e2e94e551cc22"
  },
  "language_info": {
   "codemirror_mode": {
    "name": "ipython",
    "version": 3
   },
   "file_extension": ".py",
   "mimetype": "text/x-python",
   "name": "python",
   "nbconvert_exporter": "python",
   "pygments_lexer": "ipython3",
   "version": "3.8.8"
  }
 },
 "nbformat": 4,
 "nbformat_minor": 5
}
