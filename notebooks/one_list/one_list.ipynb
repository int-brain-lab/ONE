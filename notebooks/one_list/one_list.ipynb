{
 "cells": [
  {
   "cell_type": "markdown",
   "id": "feca510c",
   "metadata": {},
   "source": [
    "# Listing with ONE\n",
    "ONE contains a number of list methods that can be used to explore the datasets available."
   ]
  },
  {
   "cell_type": "markdown",
   "id": "dec54da3",
   "metadata": {},
   "source": [
    "To list all available datasets we can use"
   ]
  },
  {
   "cell_type": "code",
   "execution_count": 1,
   "id": "e9870e8a",
   "metadata": {
    "execution": {
     "iopub.execute_input": "2021-09-07T19:18:49.236249Z",
     "iopub.status.busy": "2021-09-07T19:18:49.235252Z",
     "iopub.status.idle": "2021-09-07T19:18:50.888493Z",
     "shell.execute_reply": "2021-09-07T19:18:50.889493Z"
    }
   },
   "outputs": [],
   "source": [
    "from one.api import ONE\n",
    "one = ONE(base_url='https://openalyx.internationalbrainlab.org', silent=True)\n",
    "\n",
    "# All datasets in the database\n",
    "dsets = one.list_datasets()"
   ]
  },
  {
   "cell_type": "markdown",
   "id": "3b95c4d6",
   "metadata": {},
   "source": [
    "If you are connected to a database (e.g not using ONE with a local cache directory) you can find out information about a specific dataset by typing,"
   ]
  },
  {
   "cell_type": "code",
   "execution_count": 2,
   "id": "01c9e3c3",
   "metadata": {
    "execution": {
     "iopub.execute_input": "2021-09-07T19:18:50.897617Z",
     "iopub.status.busy": "2021-09-07T19:18:50.897617Z",
     "iopub.status.idle": "2021-09-07T19:18:51.851169Z",
     "shell.execute_reply": "2021-09-07T19:18:51.854703Z"
    }
   },
   "outputs": [
    {
     "name": "stdout",
     "output_type": "stream",
     "text": [
      "contrast of left-side stimulus (0...1) nan if trial is on other side\n"
     ]
    },
    {
     "data": {
      "text/plain": [
       "{'id': '979f9f7c-7d67-48d5-9042-a9000a8e66a2',\n",
       " 'name': 'trials.contrastLeft',\n",
       " 'created_by': None,\n",
       " 'description': 'contrast of left-side stimulus (0...1) nan if trial is on other side',\n",
       " 'filename_pattern': '*trials.contrastLeft.*'}"
      ]
     },
     "execution_count": 2,
     "metadata": {},
     "output_type": "execute_result"
    }
   ],
   "source": [
    "one.describe_dataset(dsets[3])"
   ]
  },
  {
   "cell_type": "markdown",
   "id": "078f1993",
   "metadata": {},
   "source": [
    "To find the datasets associated with a specific experiment we can pass in an eid argument"
   ]
  },
  {
   "cell_type": "code",
   "execution_count": 3,
   "id": "82b0128a",
   "metadata": {
    "execution": {
     "iopub.execute_input": "2021-09-07T19:18:51.856731Z",
     "iopub.status.busy": "2021-09-07T19:18:51.856731Z",
     "iopub.status.idle": "2021-09-07T19:18:52.036265Z",
     "shell.execute_reply": "2021-09-07T19:18:52.038285Z"
    }
   },
   "outputs": [
    {
     "name": "stdout",
     "output_type": "stream",
     "text": [
      "['alf/_ibl_bodyCamera.times.npy' 'alf/_ibl_leftCamera.times.npy'\n",
      " 'alf/_ibl_rightCamera.times.npy' 'alf/_ibl_trials.choice.npy'\n",
      " 'alf/_ibl_trials.contrastLeft.npy' 'alf/_ibl_trials.contrastRight.npy'\n",
      " 'alf/_ibl_trials.feedbackType.npy' 'alf/_ibl_trials.feedback_times.npy'\n",
      " 'alf/_ibl_trials.firstMovement_times.npy'\n",
      " 'alf/_ibl_trials.goCueTrigger_times.npy'\n",
      " 'alf/_ibl_trials.goCue_times.npy' 'alf/_ibl_trials.intervals.npy'\n",
      " 'alf/_ibl_trials.intervals_bpod.npy' 'alf/_ibl_trials.itiDuration.npy'\n",
      " 'alf/_ibl_trials.probabilityLeft.npy'\n",
      " 'alf/_ibl_trials.response_times.npy' 'alf/_ibl_trials.rewardVolume.npy'\n",
      " 'alf/_ibl_trials.stimOff_times.npy' 'alf/_ibl_trials.stimOn_times.npy'\n",
      " 'alf/_ibl_wheel.position.npy' 'alf/_ibl_wheel.times.npy'\n",
      " 'alf/_ibl_wheel.timestamps.npy' 'alf/_ibl_wheelMoves.intervals.npy'\n",
      " 'alf/_ibl_wheelMoves.peakAmplitude.npy'\n",
      " 'alf/probe01/_kilosort_whitening.matrix.npy'\n",
      " 'alf/probe01/_phy_spikes_subset.channels.npy'\n",
      " 'alf/probe01/_phy_spikes_subset.spikes.npy'\n",
      " 'alf/probe01/_phy_spikes_subset.waveforms.npy'\n",
      " 'alf/probe01/channels.brainLocationIds_ccf_2017.npy'\n",
      " 'alf/probe01/channels.localCoordinates.npy'\n",
      " 'alf/probe01/channels.mlapdv.npy' 'alf/probe01/channels.rawInd.npy'\n",
      " 'alf/probe01/clusters.amps.npy'\n",
      " 'alf/probe01/clusters.brainLocationAcronyms_ccf_2017.npy'\n",
      " 'alf/probe01/clusters.brainLocationIds_ccf_2017.npy'\n",
      " 'alf/probe01/clusters.channels.npy' 'alf/probe01/clusters.depths.npy'\n",
      " 'alf/probe01/clusters.metrics.pqt' 'alf/probe01/clusters.mlapdv.npy'\n",
      " 'alf/probe01/clusters.peakToTrough.npy' 'alf/probe01/clusters.uuids.csv'\n",
      " 'alf/probe01/clusters.waveforms.npy'\n",
      " 'alf/probe01/clusters.waveformsChannels.npy'\n",
      " 'alf/probe01/spikes.amps.npy' 'alf/probe01/spikes.clusters.npy'\n",
      " 'alf/probe01/spikes.depths.npy' 'alf/probe01/spikes.samples.npy'\n",
      " 'alf/probe01/spikes.templates.npy' 'alf/probe01/spikes.times.npy'\n",
      " 'alf/probe01/templates.amps.npy' 'alf/probe01/templates.waveforms.npy'\n",
      " 'alf/probe01/templates.waveformsChannels.npy'\n",
      " 'alf/probes.description.json' 'alf/probes.trajectory.json'\n",
      " 'raw_behavior_data/_iblrig_ambientSensorData.raw.jsonable'\n",
      " 'raw_behavior_data/_iblrig_codeFiles.raw.zip'\n",
      " 'raw_behavior_data/_iblrig_encoderEvents.raw.ssv'\n",
      " 'raw_behavior_data/_iblrig_encoderPositions.raw.ssv'\n",
      " 'raw_behavior_data/_iblrig_encoderTrialInfo.raw.ssv'\n",
      " 'raw_behavior_data/_iblrig_taskData.raw.jsonable'\n",
      " 'raw_behavior_data/_iblrig_taskSettings.raw.json'\n",
      " 'raw_ephys_data/_spikeglx_ephysData_g0_t0.nidq.cbin'\n",
      " 'raw_ephys_data/_spikeglx_ephysData_g0_t0.nidq.ch'\n",
      " 'raw_ephys_data/_spikeglx_ephysData_g0_t0.nidq.meta'\n",
      " 'raw_ephys_data/_spikeglx_ephysData_g0_t0.nidq.wiring.json'\n",
      " 'raw_ephys_data/_spikeglx_sync.channels.npy'\n",
      " 'raw_ephys_data/_spikeglx_sync.polarities.npy'\n",
      " 'raw_ephys_data/_spikeglx_sync.times.npy'\n",
      " 'raw_ephys_data/probe01/_iblqc_ephysSpectralDensityAP.freqs.npy'\n",
      " 'raw_ephys_data/probe01/_iblqc_ephysSpectralDensityAP.power.npy'\n",
      " 'raw_ephys_data/probe01/_iblqc_ephysSpectralDensityLF.freqs.npy'\n",
      " 'raw_ephys_data/probe01/_iblqc_ephysSpectralDensityLF.power.npy'\n",
      " 'raw_ephys_data/probe01/_iblqc_ephysTimeRmsAP.rms.npy'\n",
      " 'raw_ephys_data/probe01/_iblqc_ephysTimeRmsAP.timestamps.npy'\n",
      " 'raw_ephys_data/probe01/_iblqc_ephysTimeRmsLF.rms.npy'\n",
      " 'raw_ephys_data/probe01/_iblqc_ephysTimeRmsLF.timestamps.npy'\n",
      " 'raw_ephys_data/probe01/_spikeglx_ephysData_g0_t0.imec1.ap.cbin'\n",
      " 'raw_ephys_data/probe01/_spikeglx_ephysData_g0_t0.imec1.ap.ch'\n",
      " 'raw_ephys_data/probe01/_spikeglx_ephysData_g0_t0.imec1.ap.meta'\n",
      " 'raw_ephys_data/probe01/_spikeglx_ephysData_g0_t0.imec1.lf.cbin'\n",
      " 'raw_ephys_data/probe01/_spikeglx_ephysData_g0_t0.imec1.lf.ch'\n",
      " 'raw_ephys_data/probe01/_spikeglx_ephysData_g0_t0.imec1.lf.meta'\n",
      " 'raw_ephys_data/probe01/_spikeglx_ephysData_g0_t0.imec1.sync.npy'\n",
      " 'raw_ephys_data/probe01/_spikeglx_ephysData_g0_t0.imec1.timestamps.npy'\n",
      " 'raw_ephys_data/probe01/_spikeglx_ephysData_g0_t0.imec1.wiring.json'\n",
      " 'raw_ephys_data/probe01/_spikeglx_sync.channels.probe01.npy'\n",
      " 'raw_ephys_data/probe01/_spikeglx_sync.polarities.probe01.npy'\n",
      " 'raw_ephys_data/probe01/_spikeglx_sync.times.probe01.npy'\n",
      " 'raw_video_data/_iblrig_bodyCamera.raw.mp4'\n",
      " 'raw_video_data/_iblrig_bodyCamera.timestamps.ssv'\n",
      " 'raw_video_data/_iblrig_leftCamera.raw.mp4'\n",
      " 'raw_video_data/_iblrig_leftCamera.timestamps.ssv'\n",
      " 'raw_video_data/_iblrig_rightCamera.raw.mp4'\n",
      " 'raw_video_data/_iblrig_rightCamera.timestamps.ssv'\n",
      " 'spike_sorters/ks2_matlab/probe01/_kilosort_raw.output.tar']\n"
     ]
    }
   ],
   "source": [
    "eid = 'KS023/2019-12-10/001'\n",
    "\n",
    "# All datasets for specific session\n",
    "dsets = one.list_datasets(eid)\n",
    "print(dsets)"
   ]
  },
  {
   "cell_type": "markdown",
   "id": "5b89763d",
   "metadata": {},
   "source": [
    "We can also list the available collections by using,"
   ]
  },
  {
   "cell_type": "code",
   "execution_count": 4,
   "id": "017614ca",
   "metadata": {
    "execution": {
     "iopub.execute_input": "2021-09-07T19:18:52.058402Z",
     "iopub.status.busy": "2021-09-07T19:18:52.058402Z",
     "iopub.status.idle": "2021-09-07T19:18:52.156080Z",
     "shell.execute_reply": "2021-09-07T19:18:52.157075Z"
    }
   },
   "outputs": [
    {
     "name": "stdout",
     "output_type": "stream",
     "text": [
      "['alf' 'alf/probe01' 'raw_behavior_data' 'raw_ephys_data'\n",
      " 'raw_ephys_data/probe01' 'raw_video_data'\n",
      " 'spike_sorters/ks2_matlab/probe01']\n"
     ]
    }
   ],
   "source": [
    "# All collections in database\n",
    "collections = one.list_collections()\n",
    "\n",
    "# All collections for specific session\n",
    "collections = one.list_collections(eid)\n",
    "print(collections)"
   ]
  },
  {
   "cell_type": "markdown",
   "id": "c6c26de6",
   "metadata": {},
   "source": [
    "To find datasets in a given collection, we can use"
   ]
  },
  {
   "cell_type": "code",
   "execution_count": 5,
   "id": "43ac12b9",
   "metadata": {
    "execution": {
     "iopub.execute_input": "2021-09-07T19:18:52.177141Z",
     "iopub.status.busy": "2021-09-07T19:18:52.170181Z",
     "iopub.status.idle": "2021-09-07T19:18:52.187988Z",
     "shell.execute_reply": "2021-09-07T19:18:52.188990Z"
    }
   },
   "outputs": [],
   "source": [
    "# All datasets for specific session in alf/probe01 collection\n",
    "datasets = one.list_datasets(eid, collection='alf/probe01')"
   ]
  },
  {
   "cell_type": "markdown",
   "id": "1556f44d",
   "metadata": {},
   "source": [
    "Revisions can be listed in a similar way,"
   ]
  },
  {
   "cell_type": "code",
   "execution_count": 6,
   "id": "a32682e2",
   "metadata": {
    "execution": {
     "iopub.execute_input": "2021-09-07T19:18:52.202601Z",
     "iopub.status.busy": "2021-09-07T19:18:52.202601Z",
     "iopub.status.idle": "2021-09-07T19:18:52.271079Z",
     "shell.execute_reply": "2021-09-07T19:18:52.271079Z"
    }
   },
   "outputs": [],
   "source": [
    "# All revisions in database\n",
    "revisions = one.list_revisions()\n",
    "\n",
    "# All revisions for specific session\n",
    "revisions = one.list_revisions(eid)"
   ]
  },
  {
   "cell_type": "markdown",
   "id": "329a2051",
   "metadata": {},
   "source": [
    "The final useful list method allows you to search for subjects in the database,"
   ]
  },
  {
   "cell_type": "code",
   "execution_count": 7,
   "id": "d5d54c23",
   "metadata": {
    "execution": {
     "iopub.execute_input": "2021-09-07T19:18:52.280121Z",
     "iopub.status.busy": "2021-09-07T19:18:52.279122Z",
     "iopub.status.idle": "2021-09-07T19:18:52.282593Z",
     "shell.execute_reply": "2021-09-07T19:18:52.282593Z"
    }
   },
   "outputs": [],
   "source": [
    "# All subjects in the database\n",
    "subjects = one.list_subjects()"
   ]
  }
 ],
 "metadata": {
  "docs_executed": "executed",
  "kernelspec": {
   "display_name": "Python [conda env:iblenv_new] *",
   "language": "python",
   "name": "conda-env-iblenv_new-py"
  },
  "language_info": {
   "codemirror_mode": {
    "name": "ipython",
    "version": 3
   },
   "file_extension": ".py",
   "mimetype": "text/x-python",
   "name": "python",
   "nbconvert_exporter": "python",
   "pygments_lexer": "ipython3",
   "version": "3.8.8"
  }
 },
 "nbformat": 4,
 "nbformat_minor": 5
}
