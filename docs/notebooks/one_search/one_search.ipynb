{
 "cells": [
  {
   "cell_type": "markdown",
   "id": "9e1307f0",
   "metadata": {},
   "source": [
    "# Searching with ONE\n",
    "ONE contains a method that allows you to search for sessions of interest. The possible search terms can be listed using,"
   ]
  },
  {
   "cell_type": "code",
   "execution_count": 1,
   "id": "f1059dad",
   "metadata": {
    "execution": {
     "iopub.execute_input": "2021-09-07T19:19:07.354046Z",
     "iopub.status.busy": "2021-09-07T19:19:07.354046Z",
     "iopub.status.idle": "2021-09-07T19:19:08.591171Z",
     "shell.execute_reply": "2021-09-07T19:19:08.590390Z"
    }
   },
   "outputs": [
    {
     "name": "stdout",
     "output_type": "stream",
     "text": [
      "('dataset', 'date_range', 'laboratory', 'number', 'project', 'subject', 'task_protocol')\n"
     ]
    }
   ],
   "source": [
    "from one.api import ONE\n",
    "one = ONE(base_url='https://openalyx.internationalbrainlab.org')\n",
    "\n",
    "print(one.search_terms())"
   ]
  },
  {
   "cell_type": "markdown",
   "id": "c687995a",
   "metadata": {},
   "source": [
    "We can search for sessions within a specified date range"
   ]
  },
  {
   "cell_type": "code",
   "execution_count": 2,
   "id": "615b849e",
   "metadata": {
    "execution": {
     "iopub.execute_input": "2021-09-07T19:19:08.613510Z",
     "iopub.status.busy": "2021-09-07T19:19:08.612190Z",
     "iopub.status.idle": "2021-09-07T19:19:08.622008Z",
     "shell.execute_reply": "2021-09-07T19:19:08.621194Z"
    }
   },
   "outputs": [
    {
     "name": "stdout",
     "output_type": "stream",
     "text": [
      "['4ecb5d24-f5cc-402c-be28-9d0f7cb14b3a',\n",
      " 'c7bd79c9-c47e-4ea5-aea3-74dda991b48e',\n",
      " '4b7fbad4-f6de-43b4-9b15-c7c7ef44db4b']\n"
     ]
    }
   ],
   "source": [
    "from pprint import pprint\n",
    "eids = one.search(date_range=['2020-01-01', '2021-01-01'])\n",
    "pprint(eids)"
   ]
  },
  {
   "cell_type": "markdown",
   "id": "e0b16d83",
   "metadata": {},
   "source": [
    "To get more information about the sessions we can add a details=True flag"
   ]
  },
  {
   "cell_type": "code",
   "execution_count": 3,
   "id": "1cac7162",
   "metadata": {
    "execution": {
     "iopub.execute_input": "2021-09-07T19:19:08.638650Z",
     "iopub.status.busy": "2021-09-07T19:19:08.636895Z",
     "iopub.status.idle": "2021-09-07T19:19:08.658966Z",
     "shell.execute_reply": "2021-09-07T19:19:08.657556Z"
    }
   },
   "outputs": [
    {
     "name": "stdout",
     "output_type": "stream",
     "text": [
      "(['4ecb5d24-f5cc-402c-be28-9d0f7cb14b3a',\n",
      "  'c7bd79c9-c47e-4ea5-aea3-74dda991b48e',\n",
      "  '4b7fbad4-f6de-43b4-9b15-c7c7ef44db4b'],\n",
      " [{'date': datetime.date(2020, 9, 21),\n",
      "   'lab': 'hoferlab',\n",
      "   'number': 1,\n",
      "   'project': 'ibl_neuropixel_brainwide_01',\n",
      "   'subject': 'SWC_043',\n",
      "   'task_protocol': '_iblrig_tasks_ephysChoiceWorld6.4.2'},\n",
      "  {'date': datetime.date(2020, 9, 19),\n",
      "   'lab': 'zadorlab',\n",
      "   'number': 1,\n",
      "   'project': 'ibl_neuropixel_brainwide_01',\n",
      "   'subject': 'CSH_ZAD_029',\n",
      "   'task_protocol': '_iblrig_tasks_ephysChoiceWorld6.4.2'},\n",
      "  {'date': datetime.date(2020, 1, 8),\n",
      "   'lab': 'churchlandlab',\n",
      "   'number': 1,\n",
      "   'project': 'ibl_neuropixel_brainwide_01',\n",
      "   'subject': 'CSHL049',\n",
      "   'task_protocol': '_iblrig_tasks_ephysChoiceWorld6.2.5'}])\n"
     ]
    }
   ],
   "source": [
    "eids, details = one.search(date_range=['2020-01-01', '2021-01-01'], details=True)\n",
    "pprint(details)"
   ]
  },
  {
   "cell_type": "markdown",
   "id": "7e312800",
   "metadata": {},
   "source": [
    "Multiple search terms can also be combined, for example we can search for any sessions from the subject SWC_043 that contain the datasets spikes.times and spikes.clusters"
   ]
  },
  {
   "cell_type": "code",
   "execution_count": 4,
   "id": "98802da6",
   "metadata": {
    "execution": {
     "iopub.execute_input": "2021-09-07T19:19:08.670654Z",
     "iopub.status.busy": "2021-09-07T19:19:08.668862Z",
     "iopub.status.idle": "2021-09-07T19:19:08.689760Z",
     "shell.execute_reply": "2021-09-07T19:19:08.690757Z"
    }
   },
   "outputs": [
    {
     "name": "stdout",
     "output_type": "stream",
     "text": [
      "['4ecb5d24-f5cc-402c-be28-9d0f7cb14b3a']\n"
     ]
    }
   ],
   "source": [
    "eids = one.search(subject='SWC_043', dataset=['spikes.times', 'spikes.clusters'])\n",
    "pprint(eids)"
   ]
  },
  {
   "cell_type": "markdown",
   "source": [
    "More search terms are available when making [remote queries](../one_modes.html) (using the remote\n",
    "Alyx database instead of the local cache).  You can view all the remote search terms with the\n",
    "'remote' arg:"
   ],
   "metadata": {
    "collapsed": false
   }
  },
  {
   "cell_type": "code",
   "execution_count": null,
   "outputs": [],
   "source": [
    "one.search_terms('remote')\n",
    "eids = one.search(performance_gte=70, query_type='remote')"
   ],
   "metadata": {
    "collapsed": false,
    "pycharm": {
     "name": "#%%\n"
    }
   }
  },
  {
   "cell_type": "markdown",
   "id": "f89cd239",
   "metadata": {},
   "source": [
    "To find out more information about the `one.search` method we can use the help function"
   ]
  },
  {
   "cell_type": "code",
   "execution_count": 5,
   "id": "98e5d825",
   "metadata": {
    "execution": {
     "iopub.execute_input": "2021-09-07T19:19:08.703231Z",
     "iopub.status.busy": "2021-09-07T19:19:08.701982Z",
     "iopub.status.idle": "2021-09-07T19:19:08.723106Z",
     "shell.execute_reply": "2021-09-07T19:19:08.726026Z"
    },
    "pycharm": {
     "name": "#%%\n"
    }
   },
   "outputs": [
    {
     "name": "stdout",
     "output_type": "stream",
     "text": [
      "Help on method search in module one.api:\n",
      "\n",
      "search(details=False, query_type=None, **kwargs) method of one.api.OneAlyx instance\n",
      "    Searches sessions matching the given criteria and returns a list of matching eids\n",
      "    \n",
      "    For a list of search terms, use the method\n",
      "    \n",
      "     one.search_terms(query_type='remote')\n",
      "    \n",
      "    For all of the search parameters, a single value or list may be provided.  For dataset,\n",
      "    the sessions returned will contain all listed datasets.  For the other parameters,\n",
      "    the session must contain at least one of the entries. NB: Wildcards are not permitted,\n",
      "    however if wildcards property is False, regular expressions may be used for all but\n",
      "    number and date_range.\n",
      "    \n",
      "    Parameters\n",
      "    ----------\n",
      "    dataset : str, list\n",
      "        list of dataset names. Returns sessions containing all these datasets.\n",
      "        A dataset matches if it contains the search string e.g. 'wheel.position' matches\n",
      "        '_ibl_wheel.position.npy'\n",
      "    date_range : str, list, datetime.datetime, datetime.date, pandas.timestamp\n",
      "        A single date to search or a list of 2 dates that define the range (inclusive).  To\n",
      "        define only the upper or lower date bound, set the other element to None.\n",
      "    lab : str, list\n",
      "        A str or list of lab names, returns sessions from any of these labs\n",
      "    number : str, int\n",
      "        Number of session to be returned, i.e. number in sequence for a given date\n",
      "    subject : str, list\n",
      "        A list of subject nicknames, returns sessions for any of these subjects\n",
      "    task_protocol : str, list\n",
      "        The task protocol name (can be partial, i.e. any task protocol containing that str\n",
      "        will be found)\n",
      "    project : str, list\n",
      "        The project name (can be partial, i.e. any task protocol containing that str\n",
      "        will be found)\n",
      "    performance_lte / performance_gte : float\n",
      "        search only for sessions whose performance is less equal or greater equal than a\n",
      "        pre-defined threshold as a percentage (0-100)\n",
      "    users : str, list\n",
      "        A list of users\n",
      "    location : str, list\n",
      "        a str or list of lab location (as per Alyx definition) name\n",
      "        Note: this corresponds to the specific rig, not the lab geographical location per se\n",
      "    dataset_types : str, list\n",
      "        One or more of dataset_types\n",
      "    details : bool\n",
      "        If true also returns a dict of dataset details\n",
      "    query_type : str, None\n",
      "        Query cache ('local') or Alyx database ('remote')\n",
      "    limit : int\n",
      "        The number of results to fetch in one go (if pagination enabled on server)\n",
      "    \n",
      "    Returns\n",
      "    -------\n",
      "    List of eids and, if details is True, also returns a list of dictionaries, each entry\n",
      "    corresponding to a matching session\n",
      "\n"
     ]
    }
   ],
   "source": [
    "help(one.search)"
   ]
  }
 ],
 "metadata": {
  "docs_executed": "executed",
  "kernelspec": {
   "display_name": "Python [conda env:iblenv_new] *",
   "language": "python",
   "name": "conda-env-iblenv_new-py"
  },
  "language_info": {
   "codemirror_mode": {
    "name": "ipython",
    "version": 3
   },
   "file_extension": ".py",
   "mimetype": "text/x-python",
   "name": "python",
   "nbconvert_exporter": "python",
   "pygments_lexer": "ipython3",
   "version": "3.8.8"
  }
 },
 "nbformat": 4,
 "nbformat_minor": 5
}