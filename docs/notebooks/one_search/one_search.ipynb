{
 "cells": [
  {
   "cell_type": "markdown",
   "id": "9e1307f0",
   "metadata": {},
   "source": [
    "# Searching with ONE\n",
    "ONE contains a method that allows you to search for sessions of interest. The possible search terms can be listed using,"
   ]
  },
  {
   "cell_type": "code",
   "execution_count": 7,
   "id": "f1059dad",
   "metadata": {
    "ExecuteTime": {
     "end_time": "2023-08-16T11:44:35.816915300Z",
     "start_time": "2023-08-16T11:44:35.703297300Z"
    },
    "execution": {
     "iopub.execute_input": "2021-09-07T19:19:07.354046Z",
     "iopub.status.busy": "2021-09-07T19:19:07.354046Z",
     "iopub.status.idle": "2021-09-07T19:19:08.591171Z",
     "shell.execute_reply": "2021-09-07T19:19:08.590390Z"
    }
   },
   "outputs": [
    {
     "name": "stdout",
     "output_type": "stream",
     "text": [
      "('auto_datetime', 'limit', 'django', 'end_time', 'performance_gte', 'parent_session', 'project', 'dataset_qc_lte', 'id', 'start_time', 'histology', 'offset', 'performance_lte', 'procedures', 'json', 'narrative', 'name', 'atlas_name', 'nickname', 'number', 'type', 'extended_qc', 'atlas_id', 'date_range', 'n_trials', 'n_correct_trials', 'projects', 'laboratory', 'qc', 'task_protocol', 'datasets', 'users', 'dataset_types', 'subject', 'location', 'tag', 'atlas_acronym')\n"
     ]
    }
   ],
   "source": [
    "from one.api import ONE\n",
    "one = ONE(base_url='https://openalyx.internationalbrainlab.org')\n",
    "\n",
    "print(one.search_terms())"
   ]
  },
  {
   "cell_type": "markdown",
   "id": "c687995a",
   "metadata": {},
   "source": [
    "We can search for sessions within a specified date range (inclusive)"
   ]
  },
  {
   "cell_type": "code",
   "execution_count": 8,
   "id": "615b849e",
   "metadata": {
    "ExecuteTime": {
     "end_time": "2023-08-16T11:44:35.947082400Z",
     "start_time": "2023-08-16T11:44:35.717260100Z"
    },
    "execution": {
     "iopub.execute_input": "2021-09-07T19:19:08.613510Z",
     "iopub.status.busy": "2021-09-07T19:19:08.612190Z",
     "iopub.status.idle": "2021-09-07T19:19:08.622008Z",
     "shell.execute_reply": "2021-09-07T19:19:08.621194Z"
    }
   },
   "outputs": [
    {
     "name": "stdout",
     "output_type": "stream",
     "text": [
      "[UUID('024113d9-245e-4b67-afdb-9a7213d94446'),\n",
      " UUID('9119c8d3-9894-4a88-9420-a6fa8ea05a0e'),\n",
      " UUID('329f5a74-93ec-48de-a569-cf40a386f712')]\n"
     ]
    }
   ],
   "source": [
    "from pprint import pprint\n",
    "eids = one.search(date_range=['2023-10-25', '2023-10-25'])\n",
    "pprint(list(eids))"
   ]
  },
  {
   "cell_type": "markdown",
   "id": "cb4b412ba3f5369c",
   "metadata": {
    "collapsed": false,
    "pycharm": {
     "name": "#%% md\n"
    }
   },
   "source": [
    "A single date can be provided instead of a range. Also to define only the upper or lower date bound, set the other element to None."
   ]
  },
  {
   "cell_type": "code",
   "execution_count": 9,
   "id": "df0e2477078cc019",
   "metadata": {
    "ExecuteTime": {
     "end_time": "2023-08-16T11:44:35.994954600Z",
     "start_time": "2023-08-16T11:44:35.779919900Z"
    },
    "collapsed": false,
    "pycharm": {
     "name": "#%%\n"
    }
   },
   "outputs": [],
   "source": [
    "assert one.search(date_range=['2023-10-25', '2023-10-25']) == one.search(date_range='2023-10-25')"
   ]
  },
  {
   "cell_type": "markdown",
   "id": "e0b16d83",
   "metadata": {},
   "source": [
    "To get more information about the sessions we can add a details=True flag"
   ]
  },
  {
   "cell_type": "code",
   "execution_count": 10,
   "id": "1cac7162",
   "metadata": {
    "ExecuteTime": {
     "end_time": "2023-08-16T11:44:36.007920Z",
     "start_time": "2023-08-16T11:44:35.859110200Z"
    },
    "execution": {
     "iopub.execute_input": "2021-09-07T19:19:08.638650Z",
     "iopub.status.busy": "2021-09-07T19:19:08.636895Z",
     "iopub.status.idle": "2021-09-07T19:19:08.658966Z",
     "shell.execute_reply": "2021-09-07T19:19:08.657556Z"
    }
   },
   "outputs": [
    {
     "name": "stdout",
     "output_type": "stream",
     "text": [
      "[{'date': datetime.date(2023, 10, 25),\n",
      "  'id': '024113d9-245e-4b67-afdb-9a7213d94446',\n",
      "  'lab': 'wittenlab',\n",
      "  'number': 1,\n",
      "  'projects': ['witten_learning_dop'],\n",
      "  'start_time': '2023-10-25T11:01:50.579936',\n",
      "  'subject': 'fip_912',\n",
      "  'task_protocol': '_iblrig_tasks_FPROptoChoiceWorld6.4.2',\n",
      "  'url': 'https://openalyx.internationalbrainlab.org/sessions/024113d9-245e-4b67-afdb-9a7213d94446'},\n",
      " {'date': datetime.date(2023, 10, 25),\n",
      "  'id': '9119c8d3-9894-4a88-9420-a6fa8ea05a0e',\n",
      "  'lab': 'wittenlab',\n",
      "  'number': 1,\n",
      "  'projects': ['witten_learning_dop'],\n",
      "  'start_time': '2023-10-25T09:55:24.599600',\n",
      "  'subject': 'fip_911',\n",
      "  'task_protocol': '_iblrig_tasks_FPROptoChoiceWorld6.4.2',\n",
      "  'url': 'https://openalyx.internationalbrainlab.org/sessions/9119c8d3-9894-4a88-9420-a6fa8ea05a0e'},\n",
      " {'date': datetime.date(2023, 10, 25),\n",
      "  'id': '329f5a74-93ec-48de-a569-cf40a386f712',\n",
      "  'lab': 'wittenlab',\n",
      "  'number': 2,\n",
      "  'projects': ['witten_learning_dop'],\n",
      "  'start_time': '2023-10-25T08:57:09.804297',\n",
      "  'subject': 'fip_910',\n",
      "  'task_protocol': '_iblrig_tasks_FPLOptoChoiceWorld6.4.2',\n",
      "  'url': 'https://openalyx.internationalbrainlab.org/sessions/329f5a74-93ec-48de-a569-cf40a386f712'}]\n"
     ]
    }
   ],
   "source": [
    "eids, details = one.search(date_range=['2023-10-25', '2023-10-25'], details=True)\n",
    "pprint(details)"
   ]
  },
  {
   "cell_type": "markdown",
   "id": "7e312800",
   "metadata": {},
   "source": [
    "Multiple search terms can also be combined, for example we can search for any sessions from the subject SWC_043 that contain the datasets spikes.times and spikes.clusters"
   ]
  },
  {
   "cell_type": "code",
   "execution_count": 11,
   "id": "98802da6",
   "metadata": {
    "ExecuteTime": {
     "end_time": "2023-08-16T11:44:36.149540700Z",
     "start_time": "2023-08-16T11:44:35.904985700Z"
    },
    "execution": {
     "iopub.execute_input": "2021-09-07T19:19:08.670654Z",
     "iopub.status.busy": "2021-09-07T19:19:08.668862Z",
     "iopub.status.idle": "2021-09-07T19:19:08.689760Z",
     "shell.execute_reply": "2021-09-07T19:19:08.690757Z"
    }
   },
   "outputs": [
    {
     "name": "stdout",
     "output_type": "stream",
     "text": [
      "[UUID('4ecb5d24-f5cc-402c-be28-9d0f7cb14b3a'),\n",
      " UUID('c6db3304-c906-400c-aa0f-45dd3945b2ea'),\n",
      " UUID('88d24c31-52e4-49cc-9f32-6adbeb9eba87'),\n",
      " UUID('6fb1e12c-883b-46d1-a745-473cde3232c8'),\n",
      " UUID('695a6073-eae0-49e0-bb0f-e9e57a9275b9'),\n",
      " UUID('6f09ba7e-e3ce-44b0-932b-c003fb44fb89'),\n",
      " UUID('f3ce3197-d534-4618-bf81-b687555d1883')]\n"
     ]
    }
   ],
   "source": [
    "eids = one.search(subject='SWC_043', datasets=['spikes.times.npy', 'spikes.clusters.npy'])\n",
    "pprint(eids)"
   ]
  },
  {
   "cell_type": "markdown",
   "id": "8b568b6f5d92cc22",
   "metadata": {
    "collapsed": false
   },
   "source": [
    "More search terms are available when making [local queries](../one_modes.html) (using the local cache instead of the remote\n",
    "Alyx database).  You can view all the local search terms with the\n",
    "'local' arg:"
   ]
  },
  {
   "cell_type": "code",
   "execution_count": 12,
   "id": "478524e9a00663b5",
   "metadata": {
    "ExecuteTime": {
     "end_time": "2023-08-16T11:44:36.150538600Z",
     "start_time": "2023-08-16T11:44:36.014900200Z"
    },
    "collapsed": false,
    "pycharm": {
     "name": "#%%\n"
    }
   },
   "outputs": [],
   "source": [
    "one.search_terms('remote')\n",
    "eids = one.search(performance_gte=70, query_type='remote')"
   ]
  },
  {
   "cell_type": "markdown",
   "id": "8df01601c3a47ec6",
   "metadata": {
    "collapsed": false
   },
   "source": [
    "<div class=\"alert alert-warning\">\n",
    "Warning.\n",
    "\n",
    "Local search queries behave slightly differently. See \"<a href=\"#Gochas\">Gochas</a>\" below.\n",
    "</div>"
   ]
  },
  {
   "cell_type": "markdown",
   "id": "962d104f9cde7022",
   "metadata": {
    "collapsed": false
   },
   "source": [
    "Search term arguments may be shortened, so long as they are not ambiguous:"
   ]
  },
  {
   "cell_type": "code",
   "execution_count": 13,
   "id": "d694306297092437",
   "metadata": {
    "ExecuteTime": {
     "end_time": "2023-08-16T11:44:36.539909200Z",
     "start_time": "2023-08-16T11:44:36.030857900Z"
    },
    "collapsed": false,
    "pycharm": {
     "name": "#%%\n"
    }
   },
   "outputs": [],
   "source": [
    "assert one.search(task_protocol='training', date_range='2020-03-23') == one.search(task='training', date='2020-03-23')"
   ]
  },
  {
   "cell_type": "markdown",
   "id": "865a856fc75a41c7",
   "metadata": {
    "collapsed": false,
    "pycharm": {
     "name": "#%% md\n"
    }
   },
   "source": [
    "`one.search(dat='2020-01-01')` will raise a ValueError as 'dat' could be short for both 'date_range' and 'dataset'.\n",
    "\n",
    "<div class=\"alert alert-warning\">\n",
    "Warning.\n",
    "\n",
    "There are more search terms when using remote mode, for example 'data' can match both 'dataset' and 'datasets' in remote mode.\n",
    "</div>\n"
   ]
  },
  {
   "cell_type": "markdown",
   "id": "f89cd239",
   "metadata": {},
   "source": [
    "To find out more information about the `one.search` method we can use the help function"
   ]
  },
  {
   "cell_type": "code",
   "execution_count": 14,
   "id": "98e5d825",
   "metadata": {
    "ExecuteTime": {
     "end_time": "2023-08-16T11:44:36.594649700Z",
     "start_time": "2023-08-16T11:44:36.542894400Z"
    },
    "execution": {
     "iopub.execute_input": "2021-09-07T19:19:08.703231Z",
     "iopub.status.busy": "2021-09-07T19:19:08.701982Z",
     "iopub.status.idle": "2021-09-07T19:19:08.723106Z",
     "shell.execute_reply": "2021-09-07T19:19:08.726026Z"
    },
    "pycharm": {
     "name": "#%%\n"
    }
   },
   "outputs": [
    {
     "name": "stdout",
     "output_type": "stream",
     "text": [
      "Help on method search in module one.api:\n",
      "\n",
      "search(details=False, query_type=None, **kwargs) method of one.api.OneAlyx instance\n",
      "    Searches sessions matching the given criteria and returns a list of matching eids.\n",
      "    \n",
      "    For a list of search terms, use the method\n",
      "    \n",
      "        one.search_terms(query_type='remote')\n",
      "    \n",
      "    For all search parameters, a single value or list may be provided.  For `dataset`,\n",
      "    the sessions returned will contain all listed datasets.  For the other parameters,\n",
      "    the session must contain at least one of the entries.\n",
      "    \n",
      "    For all but `date_range` and `number`, any field that contains the search string is\n",
      "    returned.  Wildcards are not permitted, however if wildcards property is True, regular\n",
      "    expressions may be used (see notes and examples).\n",
      "    \n",
      "    Parameters\n",
      "    ----------\n",
      "    datasets : str, list\n",
      "        One or more (exact) dataset names. Returns sessions containing all of these datasets.\n",
      "    date_range : str, list, datetime.datetime, datetime.date, pandas.timestamp\n",
      "        A single date to search or a list of 2 dates that define the range (inclusive).  To\n",
      "        define only the upper or lower date bound, set the other element to None.\n",
      "    lab : str, list\n",
      "        A str or list of lab names, returns sessions from any of these labs (can be partial,\n",
      "        i.e. any task protocol containing that str will be found).\n",
      "    number : str, int\n",
      "        Number of session to be returned, i.e. number in sequence for a given date.\n",
      "    subject : str, list\n",
      "        A list of subject nicknames, returns sessions for any of these subjects (can be\n",
      "        partial, i.e. any task protocol containing that str will be found).\n",
      "    task_protocol : str, list\n",
      "        The task protocol name (can be partial, i.e. any task protocol containing that str\n",
      "        will be found).\n",
      "    project(s) : str, list\n",
      "        The project name (can be partial, i.e. any task protocol containing that str\n",
      "        will be found).\n",
      "    performance_lte / performance_gte : float\n",
      "        Search only for sessions whose performance is less equal or greater equal than a\n",
      "        pre-defined threshold as a percentage (0-100).\n",
      "    users : str, list\n",
      "        A list of users.\n",
      "    location : str, list\n",
      "        A str or list of lab location (as per Alyx definition) name.\n",
      "        Note: this corresponds to the specific rig, not the lab geographical location per se.\n",
      "    dataset_types : str, list\n",
      "        One or more of dataset_types. Unlike with `datasets`, the dataset types for the\n",
      "        sessions returned may not be reachable (i.e. for recent sessions the datasets may not\n",
      "        yet be available).\n",
      "    dataset_qc_lte : int, str, one.alf.spec.QC\n",
      "        The maximum QC value for associated datasets. NB: Without `datasets`, not all\n",
      "        associated datasets with the matching QC values are guarenteed to be reachable.\n",
      "    details : bool\n",
      "        If true also returns a dict of dataset details.\n",
      "    query_type : str, None\n",
      "        Query cache ('local') or Alyx database ('remote').\n",
      "    limit : int\n",
      "        The number of results to fetch in one go (if pagination enabled on server).\n",
      "    \n",
      "    Returns\n",
      "    -------\n",
      "    list of UUID\n",
      "        List of eids.\n",
      "    (list of dicts)\n",
      "        If details is True, also returns a list of dictionaries, each entry corresponding to a\n",
      "        matching session.\n",
      "    \n",
      "    Examples\n",
      "    --------\n",
      "    Search for sessions with 'training' in the task protocol.\n",
      "    \n",
      "    >>> eids = one.search(task='training')\n",
      "    \n",
      "    Search for sessions by subject 'MFD_04'.\n",
      "    \n",
      "    >>> eids = one.search(subject='MFD_04')\n",
      "    \n",
      "    Do an exact search for sessions by subject 'FD_04'.\n",
      "    \n",
      "    >>> assert one.wildcards is True, 'the wildcards flag must be True for regex expressions'\n",
      "    >>> eids = one.search(subject='^FD_04$', query_type='local')\n",
      "    \n",
      "    Search for sessions on a given date, in a given lab, containing trials and spike data.\n",
      "    \n",
      "    >>> eids = one.search(date='2023-01-01', lab='churchlandlab', dataset=['trials', 'spikes'])\n",
      "    \n",
      "    Notes\n",
      "    -----\n",
      "    - In default and local mode, most queries are case-sensitive partial matches. When lists\n",
      "      are provided, the search is a logical OR, except for `datasets`, which is a logical AND.\n",
      "    - All search terms are true for a session to be returned, i.e. subject matches AND project\n",
      "      matches, etc.\n",
      "    - In remote mode most queries are case-insensitive partial matches.\n",
      "    - In default and local mode, when the one.wildcards flag is True (default), queries are\n",
      "      interpreted as regular expressions. To turn this off set one.wildcards to False.\n",
      "    - In remote mode regular expressions are only supported using the `django` argument.\n",
      "    - In remote mode, only the `datasets` argument returns sessions where datasets are\n",
      "      registered *and* exist. Using `dataset_types` or `dataset_qc_lte` without `datasets`\n",
      "      will not check that the datasets are reachable.\n",
      "\n"
     ]
    }
   ],
   "source": [
    "help(one.search)"
   ]
  },
  {
   "cell_type": "markdown",
   "id": "6e25560f7359a84",
   "metadata": {
    "collapsed": false
   },
   "source": [
    "## Advanced searching\n",
    "By default ONE searches most terms function as an LIKE OR expression, returning results that contain any of\n",
    "the search values as a substring.  For example `one.search(subject=['foo', 'bar'])` returns all sessions where\n",
    "the subject name contains 'foo' or contains 'bar'. The exception is the dataset search term, which is a LIKE AND\n",
    "expression, i.e. the session must contain one or more dataset names containing 'foo' AND one or more datasets\n",
    "containing 'bar'.  Note that all expressions are case-sensitive in [local mode](../one_modes.html) and case-insensitive in remote mode.\n",
    "\n",
    "For more precise searches, regular expressions (a.k.a. regex) can be used in local mode.  This is on by default and can be\n",
    "deactivated by setting the wildcards flag: `one.wildcards = False` (note that this also affects the list and\n",
    "load methods, see [the advanced loading section of Loading with ONE](../one_load/one_load.html#Advanced-loading)\n",
    "for more details).\n",
    "\n",
    "Regex allows one to make exact searches by asserting the start and end of the string:"
   ]
  },
  {
   "cell_type": "code",
   "execution_count": 15,
   "id": "9635db26c39d5eff",
   "metadata": {
    "ExecuteTime": {
     "end_time": "2023-08-16T11:44:36.732294Z",
     "start_time": "2023-08-16T11:44:36.557854400Z"
    },
    "collapsed": false,
    "pycharm": {
     "name": "#%%\n"
    }
   },
   "outputs": [],
   "source": [
    "eids = one.search(subject='FD_04', query_type='local')  # includes sessions with subject 'MFD_04'\n",
    "assert one.wildcards is True, 'the wildcards flag must be True for regex expressions'\n",
    "eids = one.search(subject='^FD_04$', query_type='local')  # exact subject name match"
   ]
  },
  {
   "cell_type": "markdown",
   "id": "29fc24d326d3bef7",
   "metadata": {
    "collapsed": false,
    "pycharm": {
     "name": "#%% md\n"
    }
   },
   "source": [
    "Likewise, to search for sessions that include one dataset OR another, we can use the `|` character in\n",
    "our regex:"
   ]
  },
  {
   "cell_type": "code",
   "execution_count": 16,
   "id": "70645ed6cb88fd8f",
   "metadata": {
    "ExecuteTime": {
     "end_time": "2023-08-16T11:44:45.248020700Z",
     "start_time": "2023-08-16T11:44:36.757224700Z"
    },
    "collapsed": false,
    "pycharm": {
     "name": "#%%\n"
    }
   },
   "outputs": [],
   "source": [
    "# Sessions containing either leftCamera.times OR rightCamera.times:\n",
    "eids = one.search(proj='brainwide', datasets='leftCamera\\.times|rightCamera\\.times', query_type='local')\n",
    "# XOR expressions are also possible:\n",
    "eids = one.search(proj='brainwide', datasets='(leftCamera\\.times|rightCamera\\.times){1}', query_type='local')"
   ]
  },
  {
   "cell_type": "markdown",
   "id": "29ab986b2fbf17f2",
   "metadata": {
    "collapsed": false,
    "pycharm": {
     "name": "#%% md\n"
    }
   },
   "source": [
    "Note that the wildcards flag causes certain characters to be interpreted differently (e.g. `.` matches\n",
    "any character).  To avoid this, either set the wildcards flag to False or escape the string using `re.escape`:"
   ]
  },
  {
   "cell_type": "code",
   "execution_count": 17,
   "id": "36d9625d2861015a",
   "metadata": {
    "ExecuteTime": {
     "end_time": "2023-08-16T11:44:45.292524900Z",
     "start_time": "2023-08-16T11:44:45.249017300Z"
    },
    "collapsed": false,
    "pycharm": {
     "name": "#%%\n"
    }
   },
   "outputs": [],
   "source": [
    "import re\n",
    "subject = 'NYU-14.1'\n",
    "if one.wildcards:\n",
    "    subject = re.escape(subject)\n",
    "eids = one.search(subject=subject, query_type='local')  # 'NYU\\\\-14\\\\.1'"
   ]
  },
  {
   "cell_type": "markdown",
   "id": "cc90bd9c3044710e",
   "metadata": {
    "collapsed": false,
    "pycharm": {
     "name": "#%% md\n"
    }
   },
   "source": [
    "### Gotchas\n",
    "ONE.search strikes a balance between usability, functionality, and stability. We have been careful\n",
    "to ensure that the results of the search function have remained consistent across versions, however\n",
    "there are some confusing and unintuitive behaviours as a result...\n",
    "\n",
    "#### Difference between search term behaviours\n",
    "As mentioned above, different search terms perform differently. Below are the search terms and their\n",
    "approximate SQL equivalents:\n",
    "\n",
    "| Term            | Lookup   |\n",
    "|-----------------|----------|\n",
    "| dataset_qc_lte  | <=       |\n",
    "| number          | EXACT    |\n",
    "| date_range      | BETWEEN  |\n",
    "| subject, etc.   | LIKE OR  |\n",
    "\n",
    "Combinations of terms form a logical AND, for example `one.search(subject=['foo', 'bar'], project='baz')`\n",
    "searches for sessions where the subject name contains foo OR bar, AND the project contains baz.\n",
    "NB: When `dataset_qc_lte` is provided with `datasets`, sessions are returned where ALL matching datasets\n",
    "have a less than or equal QC value. When `dataset_qc_lte` is provided alone, sessions are returned where\n",
    "ANY of the datasets have a less than or equal QC value.\n",
    "\n",
    "#### Difference between remote mode search terms\n",
    "Many search terms perform differently between [local mode](../one_modes.html) and remote mode,\n",
    "namely in remote mode, search queries are case-insensitive.\n",
    "\n",
    "#### The datasets and dataset_types remote arguments\n",
    "In remote mode there are two ways to search for datasets:\n",
    "\n",
    "* **datasets** - an exact, case-sensitive match of one or more datasets.  All datasets must be present. If `dataset_qc` provided, this criterion applies only to these datasets.\n",
    "* **dataset_type** - an exact, case-sensitive match of one or more [dataset types](../datasets_and_types.html#Dataset-types).  All dataset types must be present.\n",
    "\n",
    "#### Regex systems between modes\n",
    "Regex searches can be made in remote mode by using special [Django queries](../useful_alyx_queries.html#regex), for example,\n",
    "```\n",
    "eids = one.search(django='subject__nickname__regex,^FD_04$', query_type='remote')\n",
    "```\n",
    "Regular expression syntax is different between modes, however: in remote mode the regex is parsed by a [PostgreSQL](https://www.postgresql.org/docs/current/functions-matching.html)\n",
    "database, while in other modes it is done using Python's [re.search](https://docs.python.org/3/library/re.html#regular-expression-syntax)."
   ]
  },
  {
   "cell_type": "markdown",
   "id": "24c8c42569004626",
   "metadata": {
    "collapsed": false
   },
   "source": [
    "## Searching data with a release tag\n",
    "Datasets associated with a given paper and/or data release are associated with a tag.\n",
    "You can list the available release tags like so:"
   ]
  },
  {
   "cell_type": "code",
   "execution_count": 18,
   "id": "24ae8df66a135d93",
   "metadata": {
    "ExecuteTime": {
     "end_time": "2023-08-16T11:44:45.353794Z",
     "start_time": "2023-08-16T11:44:45.295518300Z"
    },
    "collapsed": false
   },
   "outputs": [
    {
     "name": "stdout",
     "output_type": "stream",
     "text": [
      "2021_Q1_IBL_et_al_Behaviour: https://doi.org/10.7554/eLife.63711\n",
      "2021_Q2_PreRelease: https://figshare.com/articles/online_resource/Spike_sorting_pipeline_for_the_International_Brain_Laboratory/19705522/3\n",
      "2021_Q2_Varol_et_al: https://doi.org/10.1109/ICASSP39728.2021.9414145\n",
      "2021_Q3_Whiteway_et_al: https://doi.org/10.1371/journal.pcbi.1009439\n",
      "2022_Q2_IBL_et_al_RepeatedSite: https://doi.org/10.1101/2022.05.09.491042\n",
      "2022_Q3_IBL_et_al_DAWG: https://doi.org/10.1101/827873\n",
      "2022_Q4_IBL_et_al_BWM: https://figshare.com/articles/preprint/Data_release_-_Brainwide_map_-_Q4_2022/21400815\n",
      "2023_Q1_Biderman_Whiteway_et_al: \n",
      "2023_Q1_Mohammadi_et_al: \n",
      "2023_Q3_Findling_Hubert_et_al: https://doi.org/10.1101/2023.07.04.547684\n",
      "2023_Q4_Bruijns_et_al: \n",
      "2023_Q4_IBL_et_al_BWM_2: \n",
      "2023_Q4_IBL_et_al_BWM_passive: \n",
      "2024_Q2_Blau_et_al: \n",
      "2024_Q2_IBL_et_al_BWM_iblsort: Spike sorting output with ibl-sorter 1.7.0 for BWM\n",
      "2024_Q2_IBL_et_al_RepeatedSite: https://doi.org/10.1101/2022.05.09.491042\n",
      "2024_Q3_Pan_Vazquez_et_al: \n",
      "2025_Q1_IBL_et_al_BWM_wheel_patch: 62 patched sessions with reversed wheel polarity\n",
      "audio sync FPGA patch: For a number of important ephys sessions the audio was somehow not wired into the FPGA, however\n",
      "everything else was present and the Bpod recorded these TTLs so we decided to use the bpod2fpga\n",
      "interpolation to recover the audio TTLs in FPGA time. These were then added to the _spikeglx_sync\n",
      "object and the trials were re-extracted. These data were patched and the _spikeglx_sync datasets\n",
      "were protected so that they would not be overwritten in the future.\n",
      "Brainwidemap: \n",
      "RepeatedSite: \n"
     ]
    }
   ],
   "source": [
    "assert not one.offline, 'ONE must be online to query tags'\n",
    "tags = one.alyx.rest('tags', 'list')\n",
    "for tag in tags:\n",
    "    print('%s: %s' % (tag['name'], tag['description']))"
   ]
  },
  {
   "cell_type": "markdown",
   "id": "2660521d6fdbf8a6",
   "metadata": {
    "collapsed": false
   },
   "source": [
    "You can download a cache table for any given release tag, allowing you to restrict your ONE.search queries to a given tag in [local mode](../one_modes).\n",
    "See FAQ section '[How do I download the datasets cache for a specific IBL paper release?](../../FAQ.html#how-do-i-download-the-datasets-cache-for-a-specific-ibl-paper-release)' for more information. \n",
    "\n",
    "To search for session containing datasets assocaited with a given release tag in [remote mode](../one_modes), you can use the following query parameter:"
   ]
  },
  {
   "cell_type": "code",
   "execution_count": 19,
   "id": "3bd59c67e75e790",
   "metadata": {
    "ExecuteTime": {
     "end_time": "2023-08-16T11:44:45.403694Z",
     "start_time": "2023-08-16T11:44:45.356819800Z"
    },
    "collapsed": false
   },
   "outputs": [],
   "source": [
    "tag = '2021_Q1_IBL_et_al_Behaviour'\n",
    "eids = one.search(django='data_dataset_session_related__tags__name,' + tag, query_type='remote')"
   ]
  },
  {
   "cell_type": "markdown",
   "id": "1690f8db1dd59a5e",
   "metadata": {
    "collapsed": false,
    "pycharm": {
     "name": "#%% md\n"
    }
   },
   "source": [
    "## Searching insertions\n",
    "\n",
    "A session may contain multiple insertions recording different brain areas.\n",
    "To find data associated with a specific brain area, it is useful to search by insertion instead of\n",
    "by session.\n",
    "\n",
    "The `OneAlyx.search_insertions` method takes similar arguments to the remote search method,\n",
    "and returns a list of probe UUIDs (pIDs), which can be interconverted with session IDs (eIDs) for\n",
    "[loading data](../one_load/one_load.html#Load-spike-times-from-a-probe-UUID).\n",
    "\n",
    "<div class=\"alert alert-info\">\n",
    "Note.\n",
    "\n",
    "The search_insertions method is only available in [remote mode](../one_modes).\n",
    "</div>"
   ]
  },
  {
   "cell_type": "code",
   "execution_count": 20,
   "id": "2ced5d5b5e636e",
   "metadata": {
    "ExecuteTime": {
     "end_time": "2023-08-16T11:44:45.441020500Z",
     "start_time": "2023-08-16T11:44:45.402696700Z"
    },
    "collapsed": false,
    "pycharm": {
     "name": "#%%\n"
    }
   },
   "outputs": [],
   "source": [
    "one.search_terms('remote', 'insertions')\n",
    "pids = one.search_insertions(atlas_acronym=['STR', 'CA3'], query_type='remote')\n"
   ]
  },
  {
   "cell_type": "markdown",
   "id": "77f8bc03df582671",
   "metadata": {
    "collapsed": false
   },
   "source": [
    "For searching insertions associated with a given release tag, see the [method examples](../../_autosummary/one.api.html#one.api.OneAlyx.search_insertions) by typing `help(one.search_insertions)`."
   ]
  }
 ],
 "metadata": {
  "docs_executed": "executed",
  "kernelspec": {
   "display_name": "ibl",
   "language": "python",
   "name": "python3"
  },
  "language_info": {
   "codemirror_mode": {
    "name": "ipython",
    "version": 3
   },
   "file_extension": ".py",
   "mimetype": "text/x-python",
   "name": "python",
   "nbconvert_exporter": "python",
   "pygments_lexer": "ipython3",
   "version": "3.11.5"
  }
 },
 "nbformat": 4,
 "nbformat_minor": 5
}
