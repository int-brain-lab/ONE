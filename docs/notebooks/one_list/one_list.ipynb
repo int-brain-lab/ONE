{
 "cells": [
  {
   "cell_type": "markdown",
   "id": "feca510c",
   "metadata": {},
   "source": [
    "# Listing with ONE\n",
    "ONE contains a number of list methods that can be used to explore the datasets available."
   ]
  },
  {
   "cell_type": "markdown",
   "id": "dec54da3",
   "metadata": {},
   "source": [
    "To list all available datasets we can use"
   ]
  },
  {
   "cell_type": "code",
   "execution_count": 29,
   "id": "e9870e8a",
   "metadata": {
    "execution": {
     "iopub.execute_input": "2021-09-07T19:18:49.236249Z",
     "iopub.status.busy": "2021-09-07T19:18:49.235252Z",
     "iopub.status.idle": "2021-09-07T19:18:50.888493Z",
     "shell.execute_reply": "2021-09-07T19:18:50.889493Z"
    }
   },
   "outputs": [],
   "source": [
    "from one.api import ONE\n",
    "one = ONE(base_url='https://openalyx.internationalbrainlab.org')\n",
    "\n",
    "# All datasets in the database\n",
    "dsets = one.list_datasets()"
   ]
  },
  {
   "cell_type": "markdown",
   "id": "3b95c4d6",
   "metadata": {},
   "source": [
    "```{note}\n",
    "Calling list_* methods with no arguments in remote mode will not hit the database\n",
    "```\n",
    "\n",
    "If you are connected to a database (e.g not using ONE with a local cache directory) you can find out\n",
    "information about a specific dataset by typing,"
   ]
  },
  {
   "cell_type": "code",
   "execution_count": 30,
   "id": "01c9e3c3",
   "metadata": {
    "execution": {
     "iopub.execute_input": "2021-09-07T19:18:50.897617Z",
     "iopub.status.busy": "2021-09-07T19:18:50.897617Z",
     "iopub.status.idle": "2021-09-07T19:18:51.851169Z",
     "shell.execute_reply": "2021-09-07T19:18:51.854703Z"
    }
   },
   "outputs": [
    {
     "name": "stdout",
     "output_type": "stream",
     "text": [
      "contrast of left-side stimulus (0...1) nan if trial is on other side\n"
     ]
    },
    {
     "data": {
      "text/plain": "{'id': '979f9f7c-7d67-48d5-9042-a9000a8e66a2',\n 'name': 'trials.contrastLeft',\n 'created_by': None,\n 'description': 'contrast of left-side stimulus (0...1) nan if trial is on other side',\n 'filename_pattern': '*trials.contrastLeft.*'}"
     },
     "execution_count": 30,
     "metadata": {},
     "output_type": "execute_result"
    }
   ],
   "source": [
    "one.describe_dataset(dsets[3])"
   ]
  },
  {
   "cell_type": "markdown",
   "id": "078f1993",
   "metadata": {},
   "source": [
    "To find the datasets associated with a specific experiment we can pass in an eid argument"
   ]
  },
  {
   "cell_type": "code",
   "execution_count": 31,
   "id": "82b0128a",
   "metadata": {
    "execution": {
     "iopub.execute_input": "2021-09-07T19:18:51.856731Z",
     "iopub.status.busy": "2021-09-07T19:18:51.856731Z",
     "iopub.status.idle": "2021-09-07T19:18:52.036265Z",
     "shell.execute_reply": "2021-09-07T19:18:52.038285Z"
    }
   },
   "outputs": [
    {
     "data": {
      "text/plain": "['alf/_ibl_bodyCamera.times.npy',\n 'alf/_ibl_leftCamera.times.npy',\n 'alf/_ibl_rightCamera.times.npy',\n 'alf/_ibl_trials.choice.npy',\n 'alf/_ibl_trials.contrastLeft.npy',\n 'alf/_ibl_trials.contrastRight.npy',\n 'alf/_ibl_trials.feedbackType.npy',\n 'alf/_ibl_trials.feedback_times.npy',\n 'alf/_ibl_trials.firstMovement_times.npy',\n 'alf/_ibl_trials.goCueTrigger_times.npy',\n 'alf/_ibl_trials.goCue_times.npy',\n 'alf/_ibl_trials.intervals.npy',\n 'alf/_ibl_trials.intervals_bpod.npy',\n 'alf/_ibl_trials.itiDuration.npy',\n 'alf/_ibl_trials.probabilityLeft.npy',\n 'alf/_ibl_trials.response_times.npy',\n 'alf/_ibl_trials.rewardVolume.npy',\n 'alf/_ibl_trials.stimOff_times.npy',\n 'alf/_ibl_trials.stimOn_times.npy',\n 'alf/_ibl_wheel.position.npy',\n 'alf/_ibl_wheel.times.npy',\n 'alf/_ibl_wheel.timestamps.npy',\n 'alf/_ibl_wheelMoves.intervals.npy',\n 'alf/_ibl_wheelMoves.peakAmplitude.npy',\n 'alf/probe01/_kilosort_whitening.matrix.npy',\n 'alf/probe01/_phy_spikes_subset.channels.npy',\n 'alf/probe01/_phy_spikes_subset.spikes.npy',\n 'alf/probe01/_phy_spikes_subset.waveforms.npy',\n 'alf/probe01/channels.brainLocationIds_ccf_2017.npy',\n 'alf/probe01/channels.localCoordinates.npy',\n 'alf/probe01/channels.mlapdv.npy',\n 'alf/probe01/channels.rawInd.npy',\n 'alf/probe01/clusters.amps.npy',\n 'alf/probe01/clusters.brainLocationAcronyms_ccf_2017.npy',\n 'alf/probe01/clusters.brainLocationIds_ccf_2017.npy',\n 'alf/probe01/clusters.channels.npy',\n 'alf/probe01/clusters.depths.npy',\n 'alf/probe01/clusters.metrics.pqt',\n 'alf/probe01/clusters.mlapdv.npy',\n 'alf/probe01/clusters.peakToTrough.npy',\n 'alf/probe01/clusters.uuids.csv',\n 'alf/probe01/clusters.waveforms.npy',\n 'alf/probe01/clusters.waveformsChannels.npy',\n 'alf/probe01/spikes.amps.npy',\n 'alf/probe01/spikes.clusters.npy',\n 'alf/probe01/spikes.depths.npy',\n 'alf/probe01/spikes.samples.npy',\n 'alf/probe01/spikes.templates.npy',\n 'alf/probe01/spikes.times.npy',\n 'alf/probe01/templates.amps.npy',\n 'alf/probe01/templates.waveforms.npy',\n 'alf/probe01/templates.waveformsChannels.npy',\n 'alf/probes.description.json',\n 'alf/probes.trajectory.json',\n 'raw_behavior_data/_iblrig_ambientSensorData.raw.jsonable',\n 'raw_behavior_data/_iblrig_codeFiles.raw.zip',\n 'raw_behavior_data/_iblrig_encoderEvents.raw.ssv',\n 'raw_behavior_data/_iblrig_encoderPositions.raw.ssv',\n 'raw_behavior_data/_iblrig_encoderTrialInfo.raw.ssv',\n 'raw_behavior_data/_iblrig_taskData.raw.jsonable',\n 'raw_behavior_data/_iblrig_taskSettings.raw.json',\n 'raw_ephys_data/_spikeglx_ephysData_g0_t0.nidq.cbin',\n 'raw_ephys_data/_spikeglx_ephysData_g0_t0.nidq.ch',\n 'raw_ephys_data/_spikeglx_ephysData_g0_t0.nidq.meta',\n 'raw_ephys_data/_spikeglx_ephysData_g0_t0.nidq.wiring.json',\n 'raw_ephys_data/_spikeglx_sync.channels.npy',\n 'raw_ephys_data/_spikeglx_sync.polarities.npy',\n 'raw_ephys_data/_spikeglx_sync.times.npy',\n 'raw_ephys_data/probe01/_iblqc_ephysSpectralDensityAP.freqs.npy',\n 'raw_ephys_data/probe01/_iblqc_ephysSpectralDensityAP.power.npy',\n 'raw_ephys_data/probe01/_iblqc_ephysSpectralDensityLF.freqs.npy',\n 'raw_ephys_data/probe01/_iblqc_ephysSpectralDensityLF.power.npy',\n 'raw_ephys_data/probe01/_iblqc_ephysTimeRmsAP.rms.npy',\n 'raw_ephys_data/probe01/_iblqc_ephysTimeRmsAP.timestamps.npy',\n 'raw_ephys_data/probe01/_iblqc_ephysTimeRmsLF.rms.npy',\n 'raw_ephys_data/probe01/_iblqc_ephysTimeRmsLF.timestamps.npy',\n 'raw_ephys_data/probe01/_spikeglx_ephysData_g0_t0.imec1.ap.cbin',\n 'raw_ephys_data/probe01/_spikeglx_ephysData_g0_t0.imec1.ap.ch',\n 'raw_ephys_data/probe01/_spikeglx_ephysData_g0_t0.imec1.ap.meta',\n 'raw_ephys_data/probe01/_spikeglx_ephysData_g0_t0.imec1.lf.cbin',\n 'raw_ephys_data/probe01/_spikeglx_ephysData_g0_t0.imec1.lf.ch',\n 'raw_ephys_data/probe01/_spikeglx_ephysData_g0_t0.imec1.lf.meta',\n 'raw_ephys_data/probe01/_spikeglx_ephysData_g0_t0.imec1.sync.npy',\n 'raw_ephys_data/probe01/_spikeglx_ephysData_g0_t0.imec1.timestamps.npy',\n 'raw_ephys_data/probe01/_spikeglx_ephysData_g0_t0.imec1.wiring.json',\n 'raw_ephys_data/probe01/_spikeglx_sync.channels.probe01.npy',\n 'raw_ephys_data/probe01/_spikeglx_sync.polarities.probe01.npy',\n 'raw_ephys_data/probe01/_spikeglx_sync.times.probe01.npy',\n 'raw_video_data/_iblrig_bodyCamera.raw.mp4',\n 'raw_video_data/_iblrig_bodyCamera.timestamps.ssv',\n 'raw_video_data/_iblrig_leftCamera.raw.mp4',\n 'raw_video_data/_iblrig_leftCamera.timestamps.ssv',\n 'raw_video_data/_iblrig_rightCamera.raw.mp4',\n 'raw_video_data/_iblrig_rightCamera.timestamps.ssv',\n 'spike_sorters/ks2_matlab/probe01/_kilosort_raw.output.tar']"
     },
     "execution_count": 31,
     "metadata": {},
     "output_type": "execute_result"
    }
   ],
   "source": [
    "eid = 'KS023/2019-12-10/001'\n",
    "\n",
    "# All datasets for specific session\n",
    "one.list_datasets(eid)"
   ]
  },
  {
   "cell_type": "markdown",
   "id": "5b89763d",
   "metadata": {},
   "source": [
    "We can also list the available collections by using,"
   ]
  },
  {
   "cell_type": "code",
   "execution_count": 32,
   "id": "017614ca",
   "metadata": {
    "execution": {
     "iopub.execute_input": "2021-09-07T19:18:52.058402Z",
     "iopub.status.busy": "2021-09-07T19:18:52.058402Z",
     "iopub.status.idle": "2021-09-07T19:18:52.156080Z",
     "shell.execute_reply": "2021-09-07T19:18:52.157075Z"
    }
   },
   "outputs": [
    {
     "data": {
      "text/plain": "['raw_ephys_data/probe01',\n 'alf',\n 'alf/probe01',\n 'raw_video_data',\n 'raw_behavior_data',\n 'raw_ephys_data',\n 'spike_sorters/ks2_matlab/probe01']"
     },
     "execution_count": 32,
     "metadata": {},
     "output_type": "execute_result"
    }
   ],
   "source": [
    "# All collections in database\n",
    "collections = one.list_collections()\n",
    "\n",
    "# All collections for specific session\n",
    "one.list_collections(eid)"
   ]
  },
  {
   "cell_type": "markdown",
   "id": "1556f44d",
   "metadata": {},
   "source": [
    "Revisions can be listed in a similar way,"
   ]
  },
  {
   "cell_type": "code",
   "execution_count": 33,
   "id": "a32682e2",
   "metadata": {
    "execution": {
     "iopub.execute_input": "2021-09-07T19:18:52.202601Z",
     "iopub.status.busy": "2021-09-07T19:18:52.202601Z",
     "iopub.status.idle": "2021-09-07T19:18:52.271079Z",
     "shell.execute_reply": "2021-09-07T19:18:52.271079Z"
    }
   },
   "outputs": [],
   "source": [
    "# All revisions in database\n",
    "revisions = one.list_revisions()\n",
    "\n",
    "# All revisions for specific session\n",
    "revisions = one.list_revisions(eid)"
   ]
  },
  {
   "cell_type": "markdown",
   "id": "329a2051",
   "metadata": {},
   "source": [
    "The final useful list method allows you to search for subjects in the database,"
   ]
  },
  {
   "cell_type": "code",
   "execution_count": 34,
   "id": "d5d54c23",
   "metadata": {
    "execution": {
     "iopub.execute_input": "2021-09-07T19:18:52.280121Z",
     "iopub.status.busy": "2021-09-07T19:18:52.279122Z",
     "iopub.status.idle": "2021-09-07T19:18:52.282593Z",
     "shell.execute_reply": "2021-09-07T19:18:52.282593Z"
    }
   },
   "outputs": [],
   "source": [
    "# All subjects in the database\n",
    "subjects = one.list_subjects()"
   ]
  },
  {
   "cell_type": "markdown",
   "source": [
    "For more examples of file organization, including the use of dataset revisions, see [this guide](../alyx_files).\n"
   ],
   "metadata": {
    "collapsed": false,
    "pycharm": {
     "name": "#%% md\n"
    }
   }
  },
  {
   "cell_type": "markdown",
   "source": [
    "## Filtering lists\n",
    "`list_collections`, `list_revisions` and `list_datasets` can be called with various filter\n",
    "arguments. Collections and datasets may be filtered using wildcards, or regular expressions when\n",
    "the wildcard flag is set to False.  For more information on using wildcards,\n",
    "see the [ONE load guide](../one_load/one_load.html#Advanced-loading).\n",
    "\n",
    "Below are some examples of filtering with wildcards:"
   ],
   "metadata": {
    "collapsed": false
   }
  },
  {
   "cell_type": "code",
   "execution_count": 35,
   "outputs": [],
   "source": [
    "# All datasets for specific session in alf/probe01 collection:\n",
    "datasets = one.list_datasets(eid, collection='alf/probe01')\n",
    "\n",
    "# All datasets for a specific session in any probe collection:\n",
    "datasets = one.list_datasets(eid, collection='*probe*')\n",
    "\n",
    "# All collections that contain datasets with 'spikes' in the name:\n",
    "collections = one.list_collections(eid, filename='*spikes*')\n",
    "\n",
    "# All datasets with 'raw' in the name:\n",
    "datasets = one.list_datasets(eid, '*raw*')\n"
   ],
   "metadata": {
    "collapsed": false,
    "pycharm": {
     "name": "#%%\n"
    }
   }
  },
  {
   "cell_type": "markdown",
   "source": [
    "Note that for `list_datasets` and `list_collections` a provided revision name can't include\n",
    "wildcards.\n",
    "\n",
    "For `list_datasets`, the resulting list will include only the datasets in the given\n",
    "revision, or the previous revision (alphabetically) if the provided revision doesn't exist.\n",
    "\n",
    "For `list_collections`, the resulting list will include only the collections containing the given\n",
    "revision, or the previous revision (alphabetically) if the provided revision doesn't exist.\n",
    "\n",
    "For examples, to list collections that start with the word 'raw' and contain revisions on or before\n",
    "'2020-01-01'"
   ],
   "metadata": {
    "collapsed": false,
    "pycharm": {
     "name": "#%% md\n"
    }
   }
  },
  {
   "cell_type": "code",
   "execution_count": 36,
   "outputs": [],
   "source": [
    "collections = one.list_collections(eid, collection='raw*', revision='2020-01-01')"
   ],
   "metadata": {
    "collapsed": false,
    "pycharm": {
     "name": "#%%\n"
    }
   }
  },
  {
   "cell_type": "markdown",
   "source": [
    "For `list_revisions`, the provided revision keyword arg works like the collections arg and may\n",
    "include wildcards.\n",
    "\n",
    "For example, to list revisions for a given session that begin with '2020' or '2021':"
   ],
   "metadata": {
    "collapsed": false,
    "pycharm": {
     "name": "#%% md\n"
    }
   }
  },
  {
   "cell_type": "code",
   "execution_count": 37,
   "outputs": [],
   "source": [
    "revisions = one.list_revisions(eid, revision='202[01]')"
   ],
   "metadata": {
    "collapsed": false,
    "pycharm": {
     "name": "#%%\n"
    }
   }
  },
  {
   "cell_type": "markdown",
   "source": [
    "The dataset and collection filters may be a list of strings, constituting a logical OR.  For\n",
    "example to list datasets containing either 'spikes' or 'clusters':"
   ],
   "metadata": {
    "collapsed": false,
    "pycharm": {
     "name": "#%% md\n"
    }
   }
  },
  {
   "cell_type": "code",
   "execution_count": 38,
   "outputs": [
    {
     "data": {
      "text/plain": "['alf/probe01/_phy_spikes_subset.channels.npy',\n 'alf/probe01/_phy_spikes_subset.spikes.npy',\n 'alf/probe01/_phy_spikes_subset.waveforms.npy',\n 'alf/probe01/clusters.amps.npy',\n 'alf/probe01/clusters.brainLocationAcronyms_ccf_2017.npy',\n 'alf/probe01/clusters.brainLocationIds_ccf_2017.npy',\n 'alf/probe01/clusters.channels.npy',\n 'alf/probe01/clusters.depths.npy',\n 'alf/probe01/clusters.metrics.pqt',\n 'alf/probe01/clusters.mlapdv.npy',\n 'alf/probe01/clusters.peakToTrough.npy',\n 'alf/probe01/clusters.uuids.csv',\n 'alf/probe01/clusters.waveforms.npy',\n 'alf/probe01/clusters.waveformsChannels.npy',\n 'alf/probe01/spikes.amps.npy',\n 'alf/probe01/spikes.clusters.npy',\n 'alf/probe01/spikes.depths.npy',\n 'alf/probe01/spikes.samples.npy',\n 'alf/probe01/spikes.templates.npy',\n 'alf/probe01/spikes.times.npy']"
     },
     "execution_count": 38,
     "metadata": {},
     "output_type": "execute_result"
    }
   ],
   "source": [
    "one.list_datasets(eid, ['*spikes*', '*clusters*'])"
   ],
   "metadata": {
    "collapsed": false,
    "pycharm": {
     "name": "#%%\n"
    }
   }
  },
  {
   "cell_type": "markdown",
   "source": [
    "Dataset/filename filters can either be a string or a dict of ALF parts, each containing either\n",
    " a string or list of strings.  This allows very specific part matching.  For example, to filter\n",
    " datasets that have either the 'intervals' or 'timestamps' attributes, and are npy files:"
   ],
   "metadata": {
    "collapsed": false,
    "pycharm": {
     "name": "#%% md\n"
    }
   }
  },
  {
   "cell_type": "code",
   "execution_count": 41,
   "outputs": [
    {
     "data": {
      "text/plain": "['alf/_ibl_trials.intervals.npy',\n 'alf/_ibl_trials.intervals_bpod.npy',\n 'alf/_ibl_wheel.timestamps.npy',\n 'alf/_ibl_wheelMoves.intervals.npy',\n 'raw_ephys_data/probe01/_iblqc_ephysTimeRmsAP.timestamps.npy',\n 'raw_ephys_data/probe01/_iblqc_ephysTimeRmsLF.timestamps.npy']"
     },
     "execution_count": 41,
     "metadata": {},
     "output_type": "execute_result"
    }
   ],
   "source": [
    "one.list_datasets(eid, filename={'attribute': ['timestamps', 'intervals'], 'extension': 'npy'})"
   ],
   "metadata": {
    "collapsed": false,
    "pycharm": {
     "name": "#%%\n"
    }
   }
  }
 ],
 "metadata": {
  "docs_executed": "executed",
  "kernelspec": {
   "name": "python3",
   "language": "python",
   "display_name": "Python 3 (ipykernel)"
  },
  "language_info": {
   "codemirror_mode": {
    "name": "ipython",
    "version": 3
   },
   "file_extension": ".py",
   "mimetype": "text/x-python",
   "name": "python",
   "nbconvert_exporter": "python",
   "pygments_lexer": "ipython3",
   "version": "3.8.8"
  }
 },
 "nbformat": 4,
 "nbformat_minor": 5
}