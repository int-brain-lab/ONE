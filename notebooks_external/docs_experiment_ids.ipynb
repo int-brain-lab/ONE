{
 "cells": [
  {
   "cell_type": "markdown",
   "metadata": {},
   "source": [
    "\n",
    "# Experiment Ids\n",
    "There are multiple ways to uniquely identify an experiment:\n",
    "    - eID (str) : An experiment UUID as a string\n",
    "    - np (int64) : An experiment UUID encoded as 2 int64s\n",
    "    - path (Path) : A pathlib ALF path of the form <lab>/Subjects/<subject>/<date>/<number>\n",
    "    - ref (str) : An experiment reference string of the form yyyy-mm-dd_n_subject\n",
    "    - url (str) : An remote http session path of the form <lab>/Subjects/<subject>/<date>/<number>\n",
    "\n",
    "Internally Alyx and ONE uses eID strings to identify sessions.  For example One.search returns a\n",
    "list of eID strings.  In the ONE cache tables they are represented as a numpy array of 2 int64s\n",
    "because these are faster to search over.  Session paths, URLs and ref strings are more readable.\n"
   ]
  },
  {
   "cell_type": "code",
   "execution_count": 1,
   "metadata": {
    "execution": {
     "iopub.execute_input": "2021-09-07T19:21:20.618438Z",
     "iopub.status.busy": "2021-09-07T19:21:20.617439Z",
     "iopub.status.idle": "2021-09-07T19:21:26.888291Z",
     "shell.execute_reply": "2021-09-07T19:21:26.888647Z"
    }
   },
   "outputs": [
    {
     "name": "stdout",
     "output_type": "stream",
     "text": [
      "Session exists on disk\n"
     ]
    },
    {
     "name": "stdout",
     "output_type": "stream",
     "text": [
      "{'subject': 'KS023', 'date': datetime.date(2019, 12, 10), 'sequence': 1}\n",
      "['2019-12-10_1_KS023', '2020-01-08_1_CSHL049', '2020-09-19_1_CSH_ZAD_029']\n"
     ]
    },
    {
     "name": "stderr",
     "output_type": "stream",
     "text": [
      "\r",
      "  0%|                                                                                                                                                                                                                                          | 0/3120 [00:00<?, ?it/s]"
     ]
    },
    {
     "name": "stderr",
     "output_type": "stream",
     "text": [
      "\r",
      "100%|███████████████████████████████████████████████████████████████████████████████████████████████████████████████████████████████████████████████████████████████████████████████████████████████████████████████████████████| 3120/3120 [00:00<00:00, 385036.29it/s]"
     ]
    },
    {
     "name": "stdout",
     "output_type": "stream",
     "text": [
      "Downloading: E:\\FlatIron\\openalyx.internationalbrainlab.org\\cortexlab\\Subjects\\KS023\\2019-12-10\\001\\alf\\probe01\\channels.brainLocationIds_ccf_2017.4a1500c2-60f3-418f-afa2-c752bb1890f0.npy Bytes: 3120\n"
     ]
    },
    {
     "name": "stderr",
     "output_type": "stream",
     "text": [
      "\n"
     ]
    }
   ],
   "source": [
    "from uuid import UUID\n",
    "\n",
    "from one.api import ONE\n",
    "from one.alf.spec import is_session_path, is_uuid_string, is_uuid\n",
    "\n",
    "one = ONE(base_url='https://openalyx.internationalbrainlab.org')\n",
    "\n",
    "# One.search returns experiment uuid strings\n",
    "eids = one.search(data='channels.brainLocation')\n",
    "assert is_uuid_string(eids[0])\n",
    "\n",
    "# eID strings can be easily converted to other forms\n",
    "session_path = one.eid2path(eids[0])  # returns a pathlib.Path object\n",
    "assert is_session_path(session_path)\n",
    "print(f'Session {\"exists\" if session_path.exists() else \"does not exist\"} on disk')\n",
    "\n",
    "uuid = UUID(eids[0])\n",
    "assert is_uuid(uuid)\n",
    "\n",
    "# These conversion functions can except lists of experiment ids\n",
    "ref_dict = one.eid2ref(eids)\n",
    "assert len(ref_dict) == len(eids)\n",
    "print(ref_dict[0])\n",
    "\n",
    "# ref strings can be sorted lexicographically (by date, number and subject in that order)\n",
    "refs = sorted(one.dict2ref(ref_dict))\n",
    "print(refs)\n",
    "\n",
    "# Most ids can be interconverted also\n",
    "eid = one.path2eid(\n",
    "    one.ref2path(\n",
    "        one.dict2ref(\n",
    "            one.eid2ref(eids[0])\n",
    "        )\n",
    "    )\n",
    ")\n",
    "assert eid == eids[0]\n",
    "\n",
    "# One load functions can accept most kinds of experiment identifiers\n",
    "filepath = one.load_dataset(eid, 'channels.brainLocationIds_ccf_2017.npy',\n",
    "                            download_only=True)\n",
    "dset = one.load_dataset(session_path, 'channels.brainLocationIds_ccf_2017.npy')\n",
    "dset = one.load_dataset(filepath, 'channels.brainLocationIds_ccf_2017.npy')\n",
    "short_path = '/'.join(session_path.parts[-3:])  # 'subject/date/number'\n",
    "dset = one.load_dataset(short_path, 'channels.brainLocationIds_ccf_2017.npy')\n",
    "url = one.path2url(filepath)\n",
    "dset = one.load_dataset(url, 'channels.brainLocationIds_ccf_2017.npy')\n",
    "dset = one.load_dataset(ref_dict[0], 'channels.brainLocationIds_ccf_2017.npy')\n",
    "dset = one.load_dataset(refs[0], 'channels.brainLocationIds_ccf_2017.npy')\n",
    "\n",
    "# Likewise with other load methods...\n",
    "obj = one.load_object(short_path, 'channels', attribute='brainLocationIds')"
   ]
  }
 ],
 "metadata": {
  "docs_executed": "executed",
  "kernelspec": {
   "display_name": "Python 3",
   "language": "python",
   "name": "python3"
  },
  "language_info": {
   "codemirror_mode": {
    "name": "ipython",
    "version": 3
   },
   "file_extension": ".py",
   "mimetype": "text/x-python",
   "name": "python",
   "nbconvert_exporter": "python",
   "pygments_lexer": "ipython3",
   "version": "3.8.8"
  }
 },
 "nbformat": 4,
 "nbformat_minor": 0
}
